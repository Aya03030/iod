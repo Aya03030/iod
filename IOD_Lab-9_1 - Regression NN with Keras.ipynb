{
 "cells": [
  {
   "cell_type": "markdown",
   "metadata": {
    "id": "gn3SG1yo1KdV"
   },
   "source": [
    "<div>\n",
    "<img src=https://www.institutedata.com/wp-content/uploads/2019/10/iod_h_tp_primary_c.svg width=\"300\">\n",
    "</div>"
   ]
  },
  {
   "cell_type": "markdown",
   "metadata": {
    "id": "g-SD7a9X1KdY"
   },
   "source": [
    "# Lab 9.1: NN with Keras\n",
    "INSTRUCTIONS:\n",
    "- Read the guides and hints, then create the necessary analysis and code to find an answer and conclusion for the task below.\n",
    "- **NOTE**: This is a Regression problem. Consider the appropriate:\n",
    "    - Activation function\n",
    "    - Loss/Cost Function\n",
    "    - Metrics"
   ]
  },
  {
   "cell_type": "markdown",
   "metadata": {
    "id": "ENgfRnvL1Kdc"
   },
   "source": [
    "### Import libraries"
   ]
  },
  {
   "cell_type": "code",
   "execution_count": 37,
   "metadata": {
    "id": "Z9H465X-1Kde"
   },
   "outputs": [],
   "source": [
    "# insert code here\n",
    "\n",
    "# ライブラリのインポート\n",
    "import numpy as np\n",
    "import pandas as pd\n",
    "from sklearn.datasets import load_diabetes\n",
    "from sklearn.model_selection import train_test_split\n",
    "from sklearn.preprocessing import StandardScaler\n",
    "from sklearn.metrics import mean_squared_error\n",
    "from keras.models import Sequential\n",
    "from keras.layers import Dense"
   ]
  },
  {
   "cell_type": "markdown",
   "metadata": {
    "id": "5FHh910J1Kdm"
   },
   "source": [
    "### Load data\n",
    "Load the Diabetes dataset from **SciKit-Learn**."
   ]
  },
  {
   "cell_type": "code",
   "execution_count": 38,
   "metadata": {
    "id": "MWu8SlQF1Kdo"
   },
   "outputs": [],
   "source": [
    "# insert code here\n",
    "\n",
    "# データの読み込み\n",
    "diabetes = load_diabetes()"
   ]
  },
  {
   "cell_type": "code",
   "execution_count": 39,
   "metadata": {},
   "outputs": [
    {
     "name": "stdout",
     "output_type": "stream",
     "text": [
      ".. _diabetes_dataset:\n",
      "\n",
      "Diabetes dataset\n",
      "----------------\n",
      "\n",
      "Ten baseline variables, age, sex, body mass index, average blood\n",
      "pressure, and six blood serum measurements were obtained for each of n =\n",
      "442 diabetes patients, as well as the response of interest, a\n",
      "quantitative measure of disease progression one year after baseline.\n",
      "\n",
      "**Data Set Characteristics:**\n",
      "\n",
      "  :Number of Instances: 442\n",
      "\n",
      "  :Number of Attributes: First 10 columns are numeric predictive values\n",
      "\n",
      "  :Target: Column 11 is a quantitative measure of disease progression one year after baseline\n",
      "\n",
      "  :Attribute Information:\n",
      "      - age     age in years\n",
      "      - sex\n",
      "      - bmi     body mass index\n",
      "      - bp      average blood pressure\n",
      "      - s1      tc, total serum cholesterol\n",
      "      - s2      ldl, low-density lipoproteins\n",
      "      - s3      hdl, high-density lipoproteins\n",
      "      - s4      tch, total cholesterol / HDL\n",
      "      - s5      ltg, possibly log of serum triglycerides level\n",
      "      - s6      glu, blood sugar level\n",
      "\n",
      "Note: Each of these 10 feature variables have been mean centered and scaled by the standard deviation times the square root of `n_samples` (i.e. the sum of squares of each column totals 1).\n",
      "\n",
      "Source URL:\n",
      "https://www4.stat.ncsu.edu/~boos/var.select/diabetes.html\n",
      "\n",
      "For more information see:\n",
      "Bradley Efron, Trevor Hastie, Iain Johnstone and Robert Tibshirani (2004) \"Least Angle Regression,\" Annals of Statistics (with discussion), 407-499.\n",
      "(https://web.stanford.edu/~hastie/Papers/LARS/LeastAngle_2002.pdf)\n",
      "\n"
     ]
    }
   ],
   "source": [
    "print(diabetes.DESCR)"
   ]
  },
  {
   "cell_type": "markdown",
   "metadata": {
    "id": "xR_yLpR01Kdr"
   },
   "source": [
    "### Prepare input data"
   ]
  },
  {
   "cell_type": "code",
   "execution_count": 40,
   "metadata": {
    "id": "Sp2mf2bB1Kds"
   },
   "outputs": [],
   "source": [
    "# insert code here\n",
    "\n",
    "#input\n",
    "X = diabetes.data\n",
    "\n",
    "\n",
    "#output\n",
    "y = diabetes.target"
   ]
  },
  {
   "cell_type": "code",
   "execution_count": 94,
   "metadata": {},
   "outputs": [
    {
     "data": {
      "text/plain": [
       "(442, 10)"
      ]
     },
     "execution_count": 94,
     "metadata": {},
     "output_type": "execute_result"
    }
   ],
   "source": [
    "X.shape"
   ]
  },
  {
   "cell_type": "code",
   "execution_count": 95,
   "metadata": {},
   "outputs": [
    {
     "data": {
      "text/plain": [
       "(442,)"
      ]
     },
     "execution_count": 95,
     "metadata": {},
     "output_type": "execute_result"
    }
   ],
   "source": [
    "y.shape"
   ]
  },
  {
   "cell_type": "markdown",
   "metadata": {
    "id": "j1Vsh6cm1Kdv"
   },
   "source": [
    "### Split the data (training/test)"
   ]
  },
  {
   "cell_type": "code",
   "execution_count": 98,
   "metadata": {
    "id": "O341llJz1Kdw"
   },
   "outputs": [],
   "source": [
    "# insert code here\n",
    "\n",
    "X_train, X_test, y_train, y_test = train_test_split(X, y, test_size=0.3, random_state=42)"
   ]
  },
  {
   "cell_type": "code",
   "execution_count": null,
   "metadata": {},
   "outputs": [],
   "source": []
  },
  {
   "cell_type": "markdown",
   "metadata": {
    "id": "o4dJViJD1Kd0"
   },
   "source": [
    "### Create the model's architecture"
   ]
  },
  {
   "cell_type": "code",
   "execution_count": 99,
   "metadata": {
    "id": "Tkgf_BLl1Kd1"
   },
   "outputs": [],
   "source": [
    "# insert code here\n",
    "\n",
    "# モデルの構築\n",
    "model = Sequential()"
   ]
  },
  {
   "cell_type": "code",
   "execution_count": 100,
   "metadata": {},
   "outputs": [],
   "source": [
    "# Add the first hidden layer\n",
    "model.add(Dense(10, activation = 'relu', input_dim = X_train.shape[1]))\n",
    "\n",
    "# Add the second hidden layer\n",
    "model.add(Dense(5, activation = 'relu'))\n",
    "\n",
    "# Add the output layer\n",
    "model.add(Dense(1, activation = 'linear'))"
   ]
  },
  {
   "cell_type": "code",
   "execution_count": 101,
   "metadata": {},
   "outputs": [
    {
     "name": "stdout",
     "output_type": "stream",
     "text": [
      "Model: \"sequential_3\"\n",
      "_________________________________________________________________\n",
      " Layer (type)                Output Shape              Param #   \n",
      "=================================================================\n",
      " dense_21 (Dense)            (None, 10)                110       \n",
      "                                                                 \n",
      " dense_22 (Dense)            (None, 5)                 55        \n",
      "                                                                 \n",
      " dense_23 (Dense)            (None, 1)                 6         \n",
      "                                                                 \n",
      "=================================================================\n",
      "Total params: 171 (684.00 Byte)\n",
      "Trainable params: 171 (684.00 Byte)\n",
      "Non-trainable params: 0 (0.00 Byte)\n",
      "_________________________________________________________________\n",
      "None\n"
     ]
    }
   ],
   "source": [
    "print(model.summary())"
   ]
  },
  {
   "cell_type": "markdown",
   "metadata": {
    "id": "5hQTS42V1Kd4"
   },
   "source": [
    "### Compile the model"
   ]
  },
  {
   "cell_type": "code",
   "execution_count": 102,
   "metadata": {
    "id": "BvLsoanF1Kd5"
   },
   "outputs": [],
   "source": [
    "# insert code here\n",
    "\n",
    "# モデルのコンパイル\n",
    "model.compile(optimizer='adam', loss='mean_squared_error', metrics=['mse'])"
   ]
  },
  {
   "cell_type": "markdown",
   "metadata": {
    "id": "6KPQbnEj1Kd7"
   },
   "source": [
    "### Fit the training data"
   ]
  },
  {
   "cell_type": "code",
   "execution_count": 103,
   "metadata": {
    "id": "-oiuHjEj1Kd8"
   },
   "outputs": [
    {
     "name": "stdout",
     "output_type": "stream",
     "text": [
      "Epoch 1/100\n",
      "31/31 [==============================] - 2s 15ms/step - loss: 29810.9746 - mse: 29810.9746 - val_loss: 27261.9688 - val_mse: 27261.9688\n",
      "Epoch 2/100\n",
      "31/31 [==============================] - 0s 5ms/step - loss: 29757.6367 - mse: 29757.6367 - val_loss: 27200.1230 - val_mse: 27200.1250\n",
      "Epoch 3/100\n",
      "31/31 [==============================] - 0s 5ms/step - loss: 29680.2207 - mse: 29680.2207 - val_loss: 27109.3125 - val_mse: 27109.3125\n",
      "Epoch 4/100\n",
      "31/31 [==============================] - 0s 5ms/step - loss: 29567.3848 - mse: 29567.3848 - val_loss: 26984.0234 - val_mse: 26984.0234\n",
      "Epoch 5/100\n",
      "31/31 [==============================] - 0s 5ms/step - loss: 29414.0332 - mse: 29414.0332 - val_loss: 26810.1758 - val_mse: 26810.1758\n",
      "Epoch 6/100\n",
      "31/31 [==============================] - 0s 5ms/step - loss: 29204.8613 - mse: 29204.8613 - val_loss: 26584.8750 - val_mse: 26584.8750\n",
      "Epoch 7/100\n",
      "31/31 [==============================] - 0s 4ms/step - loss: 28935.3730 - mse: 28935.3730 - val_loss: 26298.2520 - val_mse: 26298.2520\n",
      "Epoch 8/100\n",
      "31/31 [==============================] - 0s 5ms/step - loss: 28597.8828 - mse: 28597.8828 - val_loss: 25942.9922 - val_mse: 25942.9922\n",
      "Epoch 9/100\n",
      "31/31 [==============================] - 0s 4ms/step - loss: 28185.4824 - mse: 28185.4824 - val_loss: 25512.9121 - val_mse: 25512.9102\n",
      "Epoch 10/100\n",
      "31/31 [==============================] - 0s 4ms/step - loss: 27692.6348 - mse: 27692.6309 - val_loss: 25009.8281 - val_mse: 25009.8281\n",
      "Epoch 11/100\n",
      "31/31 [==============================] - 0s 4ms/step - loss: 27117.8457 - mse: 27117.8457 - val_loss: 24425.7500 - val_mse: 24425.7500\n",
      "Epoch 12/100\n",
      "31/31 [==============================] - 0s 4ms/step - loss: 26451.1855 - mse: 26451.1875 - val_loss: 23764.2305 - val_mse: 23764.2305\n",
      "Epoch 13/100\n",
      "31/31 [==============================] - 0s 4ms/step - loss: 25702.1504 - mse: 25702.1504 - val_loss: 23016.1270 - val_mse: 23016.1270\n",
      "Epoch 14/100\n",
      "31/31 [==============================] - 0s 4ms/step - loss: 24868.9258 - mse: 24868.9258 - val_loss: 22187.8789 - val_mse: 22187.8770\n",
      "Epoch 15/100\n",
      "31/31 [==============================] - 0s 4ms/step - loss: 23950.3164 - mse: 23950.3164 - val_loss: 21289.9746 - val_mse: 21289.9746\n",
      "Epoch 16/100\n",
      "31/31 [==============================] - 0s 4ms/step - loss: 22952.0078 - mse: 22952.0059 - val_loss: 20336.1152 - val_mse: 20336.1152\n",
      "Epoch 17/100\n",
      "31/31 [==============================] - 0s 4ms/step - loss: 21907.5254 - mse: 21907.5254 - val_loss: 19289.4160 - val_mse: 19289.4160\n",
      "Epoch 18/100\n",
      "31/31 [==============================] - 0s 4ms/step - loss: 20771.8867 - mse: 20771.8867 - val_loss: 18239.8203 - val_mse: 18239.8223\n",
      "Epoch 19/100\n",
      "31/31 [==============================] - 0s 5ms/step - loss: 19623.6309 - mse: 19623.6309 - val_loss: 17113.8613 - val_mse: 17113.8613\n",
      "Epoch 20/100\n",
      "31/31 [==============================] - 0s 6ms/step - loss: 18403.9102 - mse: 18403.9102 - val_loss: 16014.1826 - val_mse: 16014.1826\n",
      "Epoch 21/100\n",
      "31/31 [==============================] - 0s 5ms/step - loss: 17202.1270 - mse: 17202.1270 - val_loss: 14855.3467 - val_mse: 14855.3467\n",
      "Epoch 22/100\n",
      "31/31 [==============================] - 0s 6ms/step - loss: 15971.3564 - mse: 15971.3564 - val_loss: 13717.5078 - val_mse: 13717.5078\n",
      "Epoch 23/100\n",
      "31/31 [==============================] - 0s 6ms/step - loss: 14762.9971 - mse: 14762.9971 - val_loss: 12607.0244 - val_mse: 12607.0244\n",
      "Epoch 24/100\n",
      "31/31 [==============================] - 0s 6ms/step - loss: 13575.4160 - mse: 13575.4160 - val_loss: 11537.4658 - val_mse: 11537.4658\n",
      "Epoch 25/100\n",
      "31/31 [==============================] - 0s 6ms/step - loss: 12432.9590 - mse: 12432.9590 - val_loss: 10517.0518 - val_mse: 10517.0518\n",
      "Epoch 26/100\n",
      "31/31 [==============================] - 0s 6ms/step - loss: 11348.2197 - mse: 11348.2197 - val_loss: 9554.7627 - val_mse: 9554.7617\n",
      "Epoch 27/100\n",
      "31/31 [==============================] - 0s 6ms/step - loss: 10341.2920 - mse: 10341.2930 - val_loss: 8636.1787 - val_mse: 8636.1787\n",
      "Epoch 28/100\n",
      "31/31 [==============================] - 0s 6ms/step - loss: 9395.9219 - mse: 9395.9219 - val_loss: 7834.6870 - val_mse: 7834.6870\n",
      "Epoch 29/100\n",
      "31/31 [==============================] - 0s 6ms/step - loss: 8553.1621 - mse: 8553.1621 - val_loss: 7107.4238 - val_mse: 7107.4238\n",
      "Epoch 30/100\n",
      "31/31 [==============================] - 0s 6ms/step - loss: 7809.7744 - mse: 7809.7744 - val_loss: 6455.1958 - val_mse: 6455.1958\n",
      "Epoch 31/100\n",
      "31/31 [==============================] - 0s 6ms/step - loss: 7147.5752 - mse: 7147.5752 - val_loss: 5914.4180 - val_mse: 5914.4180\n",
      "Epoch 32/100\n",
      "31/31 [==============================] - 0s 6ms/step - loss: 6586.6890 - mse: 6586.6895 - val_loss: 5447.1343 - val_mse: 5447.1343\n",
      "Epoch 33/100\n",
      "31/31 [==============================] - 0s 5ms/step - loss: 6106.3696 - mse: 6106.3701 - val_loss: 5069.7749 - val_mse: 5069.7749\n",
      "Epoch 34/100\n",
      "31/31 [==============================] - 0s 6ms/step - loss: 5719.5317 - mse: 5719.5317 - val_loss: 4749.5688 - val_mse: 4749.5688\n",
      "Epoch 35/100\n",
      "31/31 [==============================] - 0s 7ms/step - loss: 5390.7598 - mse: 5390.7598 - val_loss: 4508.4189 - val_mse: 4508.4189\n",
      "Epoch 36/100\n",
      "31/31 [==============================] - 0s 6ms/step - loss: 5136.5664 - mse: 5136.5664 - val_loss: 4309.5840 - val_mse: 4309.5840\n",
      "Epoch 37/100\n",
      "31/31 [==============================] - 0s 5ms/step - loss: 4928.2393 - mse: 4928.2393 - val_loss: 4155.5449 - val_mse: 4155.5449\n",
      "Epoch 38/100\n",
      "31/31 [==============================] - 0s 5ms/step - loss: 4766.6348 - mse: 4766.6348 - val_loss: 4043.4075 - val_mse: 4043.4075\n",
      "Epoch 39/100\n",
      "31/31 [==============================] - 0s 5ms/step - loss: 4640.7373 - mse: 4640.7373 - val_loss: 3942.3591 - val_mse: 3942.3591\n",
      "Epoch 40/100\n",
      "31/31 [==============================] - 0s 6ms/step - loss: 4538.1323 - mse: 4538.1323 - val_loss: 3870.8821 - val_mse: 3870.8821\n",
      "Epoch 41/100\n",
      "31/31 [==============================] - 0s 6ms/step - loss: 4462.7842 - mse: 4462.7842 - val_loss: 3813.5127 - val_mse: 3813.5129\n",
      "Epoch 42/100\n",
      "31/31 [==============================] - 0s 6ms/step - loss: 4400.2266 - mse: 4400.2266 - val_loss: 3771.5334 - val_mse: 3771.5334\n",
      "Epoch 43/100\n",
      "31/31 [==============================] - 0s 6ms/step - loss: 4348.9824 - mse: 4348.9824 - val_loss: 3733.9910 - val_mse: 3733.9910\n",
      "Epoch 44/100\n",
      "31/31 [==============================] - 0s 6ms/step - loss: 4307.5376 - mse: 4307.5376 - val_loss: 3703.3240 - val_mse: 3703.3240\n",
      "Epoch 45/100\n",
      "31/31 [==============================] - 0s 6ms/step - loss: 4270.7993 - mse: 4270.7993 - val_loss: 3675.8027 - val_mse: 3675.8027\n",
      "Epoch 46/100\n",
      "31/31 [==============================] - 0s 6ms/step - loss: 4238.0083 - mse: 4238.0083 - val_loss: 3651.9519 - val_mse: 3651.9519\n",
      "Epoch 47/100\n",
      "31/31 [==============================] - 0s 6ms/step - loss: 4211.1426 - mse: 4211.1426 - val_loss: 3627.5623 - val_mse: 3627.5623\n",
      "Epoch 48/100\n",
      "31/31 [==============================] - 0s 5ms/step - loss: 4183.4893 - mse: 4183.4893 - val_loss: 3607.4973 - val_mse: 3607.4973\n",
      "Epoch 49/100\n",
      "31/31 [==============================] - 0s 6ms/step - loss: 4156.5991 - mse: 4156.5991 - val_loss: 3586.6604 - val_mse: 3586.6604\n",
      "Epoch 50/100\n",
      "31/31 [==============================] - 0s 7ms/step - loss: 4132.2690 - mse: 4132.2690 - val_loss: 3565.9128 - val_mse: 3565.9128\n",
      "Epoch 51/100\n",
      "31/31 [==============================] - 0s 6ms/step - loss: 4112.1377 - mse: 4112.1377 - val_loss: 3548.0444 - val_mse: 3548.0444\n",
      "Epoch 52/100\n",
      "31/31 [==============================] - 0s 6ms/step - loss: 4087.3779 - mse: 4087.3779 - val_loss: 3528.4431 - val_mse: 3528.4431\n",
      "Epoch 53/100\n",
      "31/31 [==============================] - 0s 6ms/step - loss: 4066.0732 - mse: 4066.0732 - val_loss: 3510.6270 - val_mse: 3510.6270\n",
      "Epoch 54/100\n",
      "31/31 [==============================] - 0s 6ms/step - loss: 4044.3916 - mse: 4044.3916 - val_loss: 3493.0881 - val_mse: 3493.0881\n",
      "Epoch 55/100\n",
      "31/31 [==============================] - 0s 7ms/step - loss: 4024.3838 - mse: 4024.3838 - val_loss: 3475.0376 - val_mse: 3475.0376\n",
      "Epoch 56/100\n",
      "31/31 [==============================] - 0s 6ms/step - loss: 4005.3062 - mse: 4005.3062 - val_loss: 3459.9695 - val_mse: 3459.9695\n",
      "Epoch 57/100\n"
     ]
    },
    {
     "name": "stdout",
     "output_type": "stream",
     "text": [
      "31/31 [==============================] - 0s 6ms/step - loss: 3982.8989 - mse: 3982.8989 - val_loss: 3443.8179 - val_mse: 3443.8179\n",
      "Epoch 58/100\n",
      "31/31 [==============================] - 0s 5ms/step - loss: 3963.9309 - mse: 3963.9309 - val_loss: 3427.9656 - val_mse: 3427.9656\n",
      "Epoch 59/100\n",
      "31/31 [==============================] - 0s 6ms/step - loss: 3945.9451 - mse: 3945.9451 - val_loss: 3412.3740 - val_mse: 3412.3740\n",
      "Epoch 60/100\n",
      "31/31 [==============================] - 0s 6ms/step - loss: 3927.0400 - mse: 3927.0400 - val_loss: 3397.0374 - val_mse: 3397.0374\n",
      "Epoch 61/100\n",
      "31/31 [==============================] - 0s 7ms/step - loss: 3910.5217 - mse: 3910.5217 - val_loss: 3382.5498 - val_mse: 3382.5498\n",
      "Epoch 62/100\n",
      "31/31 [==============================] - 0s 10ms/step - loss: 3895.4700 - mse: 3895.4700 - val_loss: 3367.8411 - val_mse: 3367.8411\n",
      "Epoch 63/100\n",
      "31/31 [==============================] - 0s 5ms/step - loss: 3874.6780 - mse: 3874.6780 - val_loss: 3353.8044 - val_mse: 3353.8044\n",
      "Epoch 64/100\n",
      "31/31 [==============================] - 0s 4ms/step - loss: 3857.5623 - mse: 3857.5623 - val_loss: 3340.0657 - val_mse: 3340.0657\n",
      "Epoch 65/100\n",
      "31/31 [==============================] - 0s 7ms/step - loss: 3839.9558 - mse: 3839.9558 - val_loss: 3327.3718 - val_mse: 3327.3718\n",
      "Epoch 66/100\n",
      "31/31 [==============================] - 0s 4ms/step - loss: 3824.7290 - mse: 3824.7290 - val_loss: 3313.8240 - val_mse: 3313.8240\n",
      "Epoch 67/100\n",
      "31/31 [==============================] - 0s 4ms/step - loss: 3808.8806 - mse: 3808.8806 - val_loss: 3300.3728 - val_mse: 3300.3728\n",
      "Epoch 68/100\n",
      "31/31 [==============================] - 0s 4ms/step - loss: 3793.4883 - mse: 3793.4883 - val_loss: 3288.9089 - val_mse: 3288.9089\n",
      "Epoch 69/100\n",
      "31/31 [==============================] - 0s 6ms/step - loss: 3777.9102 - mse: 3777.9102 - val_loss: 3276.7024 - val_mse: 3276.7024\n",
      "Epoch 70/100\n",
      "31/31 [==============================] - 0s 5ms/step - loss: 3763.3154 - mse: 3763.3152 - val_loss: 3264.2961 - val_mse: 3264.2961\n",
      "Epoch 71/100\n",
      "31/31 [==============================] - 0s 5ms/step - loss: 3747.4724 - mse: 3747.4724 - val_loss: 3252.2407 - val_mse: 3252.2407\n",
      "Epoch 72/100\n",
      "31/31 [==============================] - 0s 5ms/step - loss: 3733.9446 - mse: 3733.9446 - val_loss: 3241.0830 - val_mse: 3241.0833\n",
      "Epoch 73/100\n",
      "31/31 [==============================] - 0s 5ms/step - loss: 3718.7593 - mse: 3718.7593 - val_loss: 3228.1206 - val_mse: 3228.1206\n",
      "Epoch 74/100\n",
      "31/31 [==============================] - 0s 5ms/step - loss: 3701.1458 - mse: 3701.1458 - val_loss: 3215.3359 - val_mse: 3215.3359\n",
      "Epoch 75/100\n",
      "31/31 [==============================] - 0s 6ms/step - loss: 3685.9207 - mse: 3685.9207 - val_loss: 3202.1533 - val_mse: 3202.1533\n",
      "Epoch 76/100\n",
      "31/31 [==============================] - 0s 6ms/step - loss: 3667.9143 - mse: 3667.9143 - val_loss: 3189.9158 - val_mse: 3189.9158\n",
      "Epoch 77/100\n",
      "31/31 [==============================] - 0s 6ms/step - loss: 3650.9075 - mse: 3650.9075 - val_loss: 3178.4224 - val_mse: 3178.4224\n",
      "Epoch 78/100\n",
      "31/31 [==============================] - 0s 6ms/step - loss: 3635.8750 - mse: 3635.8750 - val_loss: 3166.4829 - val_mse: 3166.4829\n",
      "Epoch 79/100\n",
      "31/31 [==============================] - 0s 7ms/step - loss: 3620.0396 - mse: 3620.0396 - val_loss: 3153.9287 - val_mse: 3153.9287\n",
      "Epoch 80/100\n",
      "31/31 [==============================] - 0s 7ms/step - loss: 3603.7844 - mse: 3603.7844 - val_loss: 3141.8472 - val_mse: 3141.8472\n",
      "Epoch 81/100\n",
      "31/31 [==============================] - 0s 7ms/step - loss: 3588.5974 - mse: 3588.5974 - val_loss: 3131.1980 - val_mse: 3131.1980\n",
      "Epoch 82/100\n",
      "31/31 [==============================] - 0s 7ms/step - loss: 3574.8037 - mse: 3574.8037 - val_loss: 3121.6702 - val_mse: 3121.6702\n",
      "Epoch 83/100\n",
      "31/31 [==============================] - 0s 6ms/step - loss: 3559.2046 - mse: 3559.2046 - val_loss: 3110.2988 - val_mse: 3110.2988\n",
      "Epoch 84/100\n",
      "31/31 [==============================] - 0s 6ms/step - loss: 3547.7302 - mse: 3547.7302 - val_loss: 3099.8281 - val_mse: 3099.8281\n",
      "Epoch 85/100\n",
      "31/31 [==============================] - 0s 6ms/step - loss: 3531.9170 - mse: 3531.9170 - val_loss: 3091.5193 - val_mse: 3091.5193\n",
      "Epoch 86/100\n",
      "31/31 [==============================] - 0s 6ms/step - loss: 3523.6965 - mse: 3523.6965 - val_loss: 3080.7686 - val_mse: 3080.7686\n",
      "Epoch 87/100\n",
      "31/31 [==============================] - 0s 6ms/step - loss: 3507.4629 - mse: 3507.4629 - val_loss: 3073.2217 - val_mse: 3073.2217\n",
      "Epoch 88/100\n",
      "31/31 [==============================] - 0s 5ms/step - loss: 3494.2893 - mse: 3494.2893 - val_loss: 3064.0059 - val_mse: 3064.0059\n",
      "Epoch 89/100\n",
      "31/31 [==============================] - 0s 5ms/step - loss: 3480.5562 - mse: 3480.5562 - val_loss: 3056.4343 - val_mse: 3056.4343\n",
      "Epoch 90/100\n",
      "31/31 [==============================] - 0s 5ms/step - loss: 3467.4963 - mse: 3467.4963 - val_loss: 3048.1589 - val_mse: 3048.1589\n",
      "Epoch 91/100\n",
      "31/31 [==============================] - 0s 5ms/step - loss: 3458.1621 - mse: 3458.1619 - val_loss: 3037.5415 - val_mse: 3037.5415\n",
      "Epoch 92/100\n",
      "31/31 [==============================] - 0s 8ms/step - loss: 3444.1707 - mse: 3444.1707 - val_loss: 3030.7246 - val_mse: 3030.7241\n",
      "Epoch 93/100\n",
      "31/31 [==============================] - 0s 8ms/step - loss: 3434.4380 - mse: 3434.4380 - val_loss: 3022.5481 - val_mse: 3022.5481\n",
      "Epoch 94/100\n",
      "31/31 [==============================] - 0s 7ms/step - loss: 3424.7136 - mse: 3424.7136 - val_loss: 3018.4487 - val_mse: 3018.4487\n",
      "Epoch 95/100\n",
      "31/31 [==============================] - 0s 7ms/step - loss: 3410.7512 - mse: 3410.7512 - val_loss: 3008.9600 - val_mse: 3008.9600\n",
      "Epoch 96/100\n",
      "31/31 [==============================] - 0s 7ms/step - loss: 3401.2847 - mse: 3401.2847 - val_loss: 3001.7698 - val_mse: 3001.7698\n",
      "Epoch 97/100\n",
      "31/31 [==============================] - 0s 8ms/step - loss: 3395.8794 - mse: 3395.8794 - val_loss: 2998.5789 - val_mse: 2998.5789\n",
      "Epoch 98/100\n",
      "31/31 [==============================] - 0s 7ms/step - loss: 3382.7458 - mse: 3382.7458 - val_loss: 2988.5632 - val_mse: 2988.5632\n",
      "Epoch 99/100\n",
      "31/31 [==============================] - 0s 8ms/step - loss: 3371.1724 - mse: 3371.1724 - val_loss: 2982.7373 - val_mse: 2982.7373\n",
      "Epoch 100/100\n",
      "31/31 [==============================] - 0s 7ms/step - loss: 3362.0046 - mse: 3362.0046 - val_loss: 2976.0344 - val_mse: 2976.0344\n",
      "CPU times: user 21.9 s, sys: 3.16 s, total: 25.1 s\n",
      "Wall time: 19.6 s\n"
     ]
    }
   ],
   "source": [
    "%%time\n",
    "# insert code here\n",
    "\n",
    "# トレーニングデータのフィッティング\n",
    "fit = model.fit(X_train,\n",
    "          y_train,\n",
    "         validation_data = (X_test, y_test),\n",
    "         batch_size=10,\n",
    "         epochs = 100)"
   ]
  },
  {
   "cell_type": "markdown",
   "metadata": {
    "id": "CR-kCu3c1Kd-"
   },
   "source": [
    "### Create predictions"
   ]
  },
  {
   "cell_type": "code",
   "execution_count": 104,
   "metadata": {
    "id": "wkywKqPg1Kd-"
   },
   "outputs": [
    {
     "name": "stdout",
     "output_type": "stream",
     "text": [
      "5/5 [==============================] - 0s 2ms/step\n"
     ]
    }
   ],
   "source": [
    "# insert code here\n",
    "\n",
    "# 予測の作成\n",
    "y_pred = model.predict(X_test)\n"
   ]
  },
  {
   "cell_type": "code",
   "execution_count": 105,
   "metadata": {},
   "outputs": [
    {
     "data": {
      "text/plain": [
       "array([[163.48894 ],\n",
       "       [163.70674 ],\n",
       "       [155.56131 ],\n",
       "       [268.47064 ],\n",
       "       [147.2912  ],\n",
       "       [124.960335],\n",
       "       [224.25015 ],\n",
       "       [198.09296 ],\n",
       "       [109.94887 ],\n",
       "       [132.271   ],\n",
       "       [110.73349 ],\n",
       "       [143.63252 ],\n",
       "       [ 74.060036],\n",
       "       [208.60123 ],\n",
       "       [122.942116],\n",
       "       [135.20709 ],\n",
       "       [214.9721  ],\n",
       "       [234.94934 ],\n",
       "       [168.12785 ],\n",
       "       [204.04718 ],\n",
       "       [174.97426 ],\n",
       "       [112.49818 ],\n",
       "       [ 91.43705 ],\n",
       "       [185.68335 ],\n",
       "       [141.61102 ],\n",
       "       [168.11806 ],\n",
       "       [178.1157  ],\n",
       "       [177.07965 ],\n",
       "       [ 65.65998 ],\n",
       "       [141.58992 ],\n",
       "       [175.30325 ],\n",
       "       [108.621414],\n",
       "       [144.27225 ],\n",
       "       [184.81023 ],\n",
       "       [180.33795 ],\n",
       "       [179.44019 ],\n",
       "       [142.98317 ],\n",
       "       [147.71474 ],\n",
       "       [175.38939 ],\n",
       "       [ 80.08128 ],\n",
       "       [102.77466 ],\n",
       "       [124.9679  ],\n",
       "       [156.14825 ],\n",
       "       [177.31816 ],\n",
       "       [167.0722  ],\n",
       "       [ 82.41146 ],\n",
       "       [ 94.83758 ],\n",
       "       [101.902985],\n",
       "       [ 80.305595],\n",
       "       [142.26773 ],\n",
       "       [131.86884 ],\n",
       "       [ 81.00371 ],\n",
       "       [141.58472 ],\n",
       "       [118.129196],\n",
       "       [184.61713 ],\n",
       "       [137.28262 ],\n",
       "       [119.35497 ],\n",
       "       [185.0485  ],\n",
       "       [115.56301 ],\n",
       "       [ 72.906975],\n",
       "       [186.21236 ],\n",
       "       [173.33766 ],\n",
       "       [132.90839 ],\n",
       "       [128.40298 ],\n",
       "       [139.82672 ],\n",
       "       [184.37096 ],\n",
       "       [179.79367 ],\n",
       "       [162.13297 ],\n",
       "       [103.17731 ],\n",
       "       [148.33176 ],\n",
       "       [172.59315 ],\n",
       "       [198.98131 ],\n",
       "       [235.40106 ],\n",
       "       [144.81813 ],\n",
       "       [ 98.775406],\n",
       "       [173.15219 ],\n",
       "       [197.85933 ],\n",
       "       [182.06653 ],\n",
       "       [166.19348 ],\n",
       "       [192.93968 ],\n",
       "       [118.91205 ],\n",
       "       [118.8483  ],\n",
       "       [ 74.39168 ],\n",
       "       [ 84.19184 ],\n",
       "       [121.356384],\n",
       "       [ 96.7629  ],\n",
       "       [ 77.507805],\n",
       "       [ 80.658264],\n",
       "       [143.40662 ],\n",
       "       [190.05605 ],\n",
       "       [165.23062 ],\n",
       "       [195.45631 ],\n",
       "       [ 92.79198 ],\n",
       "       [ 77.488655],\n",
       "       [ 69.2878  ],\n",
       "       [178.85886 ],\n",
       "       [234.96094 ],\n",
       "       [173.08527 ],\n",
       "       [ 97.32342 ],\n",
       "       [ 98.37193 ],\n",
       "       [184.6978  ],\n",
       "       [122.81605 ],\n",
       "       [242.95712 ],\n",
       "       [102.04642 ],\n",
       "       [161.28351 ],\n",
       "       [ 87.44405 ],\n",
       "       [137.4249  ],\n",
       "       [148.30363 ],\n",
       "       [171.32689 ],\n",
       "       [158.99289 ],\n",
       "       [146.95692 ],\n",
       "       [174.04167 ],\n",
       "       [197.75894 ],\n",
       "       [206.67352 ],\n",
       "       [191.2438  ],\n",
       "       [155.73956 ],\n",
       "       [141.1372  ],\n",
       "       [139.45535 ],\n",
       "       [100.12879 ],\n",
       "       [155.85352 ],\n",
       "       [147.59222 ],\n",
       "       [114.06987 ],\n",
       "       [ 96.62391 ],\n",
       "       [159.78482 ],\n",
       "       [145.25444 ],\n",
       "       [164.60263 ],\n",
       "       [172.51997 ],\n",
       "       [120.096054],\n",
       "       [187.99435 ],\n",
       "       [ 90.88664 ],\n",
       "       [157.05304 ],\n",
       "       [ 99.95701 ],\n",
       "       [206.80875 ]], dtype=float32)"
      ]
     },
     "execution_count": 105,
     "metadata": {},
     "output_type": "execute_result"
    }
   ],
   "source": [
    "y_pred"
   ]
  },
  {
   "cell_type": "markdown",
   "metadata": {
    "id": "-unEmrGo1KeA"
   },
   "source": [
    "### Evaluate the model"
   ]
  },
  {
   "cell_type": "code",
   "execution_count": 106,
   "metadata": {
    "id": "QCIVpVrG1KeB"
   },
   "outputs": [
    {
     "name": "stdout",
     "output_type": "stream",
     "text": [
      "Mean Squared Error: 2976.0347991897306\n"
     ]
    }
   ],
   "source": [
    "# insert code here\n",
    "\n",
    "# y_true を y_pred と同じ列数に調整\n",
    "y_test_adjusted = np.repeat(y_test.reshape(-1, 1), y_pred.shape[1], axis=1)\n",
    "\n",
    "\n",
    "# モデルの評価\n",
    "\n",
    "mse = mean_squared_error(y_test_adjusted, y_pred)\n",
    "print(f'Mean Squared Error: {mse}')"
   ]
  },
  {
   "cell_type": "markdown",
   "metadata": {
    "id": "sSlqjs7e1KeD"
   },
   "source": [
    "### Visualisation of cost"
   ]
  },
  {
   "cell_type": "code",
   "execution_count": 107,
   "metadata": {},
   "outputs": [
    {
     "data": {
      "text/plain": [
       "dict"
      ]
     },
     "execution_count": 107,
     "metadata": {},
     "output_type": "execute_result"
    }
   ],
   "source": [
    "type(fit.history)"
   ]
  },
  {
   "cell_type": "code",
   "execution_count": 108,
   "metadata": {},
   "outputs": [
    {
     "data": {
      "text/plain": [
       "dict_keys(['loss', 'mse', 'val_loss', 'val_mse'])"
      ]
     },
     "execution_count": 108,
     "metadata": {},
     "output_type": "execute_result"
    }
   ],
   "source": [
    "fit.history.keys()"
   ]
  },
  {
   "cell_type": "code",
   "execution_count": 109,
   "metadata": {
    "id": "1F6hYpNh1KeE",
    "scrolled": false
   },
   "outputs": [
    {
     "data": {
      "text/plain": [
       "<matplotlib.legend.Legend at 0x1507cf090>"
      ]
     },
     "execution_count": 109,
     "metadata": {},
     "output_type": "execute_result"
    },
    {
     "data": {
      "image/png": "[encoded data removed]",
      "text/plain": [
       "<Figure size 640x480 with 1 Axes>"
      ]
     },
     "metadata": {},
     "output_type": "display_data"
    }
   ],
   "source": [
    "import matplotlib.pyplot as plt\n",
    "\n",
    "# insert code here\n",
    "\n",
    "\n",
    "plt.plot(fit.history['loss'], label='train')\n",
    "plt.plot(fit.history['mse'], label='test')\n",
    "plt.legend()"
   ]
  },
  {
   "cell_type": "code",
   "execution_count": null,
   "metadata": {},
   "outputs": [],
   "source": [
    "## I don't know why train doesn't come out..."
   ]
  },
  {
   "cell_type": "markdown",
   "metadata": {
    "id": "vQLzMZTM1KeG"
   },
   "source": [
    "### Visualisation of residuals"
   ]
  },
  {
   "cell_type": "code",
   "execution_count": 17,
   "metadata": {
    "id": "opIulVSw1KeH"
   },
   "outputs": [],
   "source": [
    "# insert code here\n",
    "\n",
    "#Sorry I don't completely understand."
   ]
  },
  {
   "cell_type": "markdown",
   "metadata": {
    "id": "RERADKgNFq9T"
   },
   "source": [
    "\n",
    "\n",
    "---\n",
    "\n",
    "\n",
    "\n",
    "---\n",
    "\n",
    "\n",
    "\n",
    "> > > > > > > > > © 2023 Institute of Data\n",
    "\n",
    "\n",
    "---\n",
    "\n",
    "\n",
    "\n",
    "---\n",
    "\n",
    "\n",
    "\n"
   ]
  }
 ],
 "metadata": {
  "colab": {
   "provenance": []
  },
  "kernelspec": {
   "display_name": "Python 3 (ipykernel)",
   "language": "python",
   "name": "python3"
  },
  "language_info": {
   "codemirror_mode": {
    "name": "ipython",
    "version": 3
   },
   "file_extension": ".py",
   "mimetype": "text/x-python",
   "name": "python",
   "nbconvert_exporter": "python",
   "pygments_lexer": "ipython3",
   "version": "3.11.4"
  }
 },
 "nbformat": 4,
 "nbformat_minor": 1
}
