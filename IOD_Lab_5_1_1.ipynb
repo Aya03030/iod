{
 "cells": [
  {
   "cell_type": "markdown",
   "metadata": {
    "id": "XebDJ3UnS3n3"
   },
   "source": [
    "<div>\n",
    "<img src=https://www.institutedata.com/wp-content/uploads/2019/10/iod_h_tp_primary_c.svg width=\"300\">\n",
    "</div>"
   ]
  },
  {
   "cell_type": "markdown",
   "metadata": {
    "id": "e_-HjrL6S3n5"
   },
   "source": [
    "# Lab 5.1.1\n",
    "# *Evaluating Classification Models*\n",
    "\n",
    "In this lab you will be practicing evaluating classification models (Logistic Regression in particular) on a \"Breast Cancer\" data."
   ]
  },
  {
   "cell_type": "code",
   "execution_count": 1,
   "metadata": {
    "ExecuteTime": {
     "end_time": "2019-05-06T06:09:10.987137Z",
     "start_time": "2019-05-06T06:09:08.585560Z"
    },
    "id": "1zMTIA2vS3n8"
   },
   "outputs": [],
   "source": [
    "import numpy as np\n",
    "import matplotlib.pyplot as plt\n",
    "from sklearn import svm\n",
    "from sklearn.datasets import make_blobs\n",
    "\n",
    "%matplotlib inline"
   ]
  },
  {
   "cell_type": "markdown",
   "metadata": {
    "id": "NK8vl9V2YFtm"
   },
   "source": [
    "### 1. Load Data\n",
    "\n",
    "From UCI's Machine Learning Repository: https://archive.ics.uci.edu/dataset/17/breast+cancer+wisconsin+diagnostic\n",
    "\n",
    "Features are computed from a digitized image of a fine needle aspirate (FNA) of a breast mass. They describe characteristics of the cell nuclei present in the image. n the 3-dimensional space is that described in: [K. P. Bennett and O. L. Mangasarian: \"Robust Linear Programming Discrimination of Two Linearly Inseparable Sets\", Optimization Methods and Software 1, 1992, 23-34].\n",
    "\n",
    "This database is also available through the UW CS ftp server: ftp ftp.cs.wisc.edu cd math-prog/cpo-dataset/machine-learn/WDBC/\n",
    "\n",
    "\n",
    "Attribute Information:\n",
    "\n",
    "1) ID number 2) Diagnosis (M = malignant, B = benign) 3-32)\n",
    "\n",
    "Ten real-valued features are computed for each cell nucleus:\n",
    "\n",
    "    a) radius (mean of distances from center to points on the perimeter)\n",
    "    b) texture (standard deviation of gray-scale values)\n",
    "    c) perimeter\n",
    "    d) area\n",
    "    e) smoothness (local variation in radius lengths)\n",
    "    f) compactness (perimeter^2 / area - 1.0)\n",
    "    g) concavity (severity of concave portions of the contour)\n",
    "    h) concave points (number of concave portions of the contour)\n",
    "    i) symmetry\n",
    "    j) fractal dimension (\"coastline approximation\" - 1)\n",
    "\n",
    "The mean, standard error and \"worst\" or largest (mean of the three largest values) of these features were computed for each image, resulting in 30 features. For instance, field 3 is Mean Radius, field 13 is Radius SE, field 23 is Worst Radius.\n",
    "\n",
    "All feature values are recoded with four significant digits.\n",
    "\n",
    "Missing attribute values: none\n",
    "\n",
    "Class distribution: 357 benign, 212 malignant"
   ]
  },
  {
   "cell_type": "code",
   "execution_count": 2,
   "metadata": {
    "ExecuteTime": {
     "end_time": "2019-05-06T06:10:11.257429Z",
     "start_time": "2019-05-06T06:10:10.461467Z"
    },
    "id": "Vobco1MLYFtn"
   },
   "outputs": [],
   "source": [
    "import pandas as pd\n",
    "import numpy as np\n",
    "import matplotlib.pyplot as plt"
   ]
  },
  {
   "cell_type": "code",
   "execution_count": 3,
   "metadata": {
    "ExecuteTime": {
     "end_time": "2019-05-06T06:10:13.050415Z",
     "start_time": "2019-05-06T06:10:13.046425Z"
    },
    "id": "YMdRWshHYFtq"
   },
   "outputs": [],
   "source": [
    "breast_cancer_csv = '/Users/ayano/Desktop/Data Science & AI/csv/breast-cancer-wisconsin-data.csv'"
   ]
  },
  {
   "cell_type": "code",
   "execution_count": 5,
   "metadata": {},
   "outputs": [],
   "source": [
    "breast_cancer = pd.read_csv( breast_cancer_csv)"
   ]
  },
  {
   "cell_type": "code",
   "execution_count": 6,
   "metadata": {},
   "outputs": [
    {
     "data": {
      "text/html": [
       "<div>\n",
       "<style scoped>\n",
       "    .dataframe tbody tr th:only-of-type {\n",
       "        vertical-align: middle;\n",
       "    }\n",
       "\n",
       "    .dataframe tbody tr th {\n",
       "        vertical-align: top;\n",
       "    }\n",
       "\n",
       "    .dataframe thead th {\n",
       "        text-align: right;\n",
       "    }\n",
       "</style>\n",
       "<table border=\"1\" class=\"dataframe\">\n",
       "  <thead>\n",
       "    <tr style=\"text-align: right;\">\n",
       "      <th></th>\n",
       "      <th>id</th>\n",
       "      <th>diagnosis</th>\n",
       "      <th>radius_mean</th>\n",
       "      <th>texture_mean</th>\n",
       "      <th>perimeter_mean</th>\n",
       "      <th>area_mean</th>\n",
       "      <th>smoothness_mean</th>\n",
       "      <th>compactness_mean</th>\n",
       "      <th>concavity_mean</th>\n",
       "      <th>concave points_mean</th>\n",
       "      <th>...</th>\n",
       "      <th>texture_worst</th>\n",
       "      <th>perimeter_worst</th>\n",
       "      <th>area_worst</th>\n",
       "      <th>smoothness_worst</th>\n",
       "      <th>compactness_worst</th>\n",
       "      <th>concavity_worst</th>\n",
       "      <th>concave points_worst</th>\n",
       "      <th>symmetry_worst</th>\n",
       "      <th>fractal_dimension_worst</th>\n",
       "      <th>Unnamed: 32</th>\n",
       "    </tr>\n",
       "  </thead>\n",
       "  <tbody>\n",
       "    <tr>\n",
       "      <th>0</th>\n",
       "      <td>842302</td>\n",
       "      <td>M</td>\n",
       "      <td>17.99</td>\n",
       "      <td>10.38</td>\n",
       "      <td>122.80</td>\n",
       "      <td>1001.0</td>\n",
       "      <td>0.11840</td>\n",
       "      <td>0.27760</td>\n",
       "      <td>0.3001</td>\n",
       "      <td>0.14710</td>\n",
       "      <td>...</td>\n",
       "      <td>17.33</td>\n",
       "      <td>184.60</td>\n",
       "      <td>2019.0</td>\n",
       "      <td>0.1622</td>\n",
       "      <td>0.6656</td>\n",
       "      <td>0.7119</td>\n",
       "      <td>0.2654</td>\n",
       "      <td>0.4601</td>\n",
       "      <td>0.11890</td>\n",
       "      <td>NaN</td>\n",
       "    </tr>\n",
       "    <tr>\n",
       "      <th>1</th>\n",
       "      <td>842517</td>\n",
       "      <td>M</td>\n",
       "      <td>20.57</td>\n",
       "      <td>17.77</td>\n",
       "      <td>132.90</td>\n",
       "      <td>1326.0</td>\n",
       "      <td>0.08474</td>\n",
       "      <td>0.07864</td>\n",
       "      <td>0.0869</td>\n",
       "      <td>0.07017</td>\n",
       "      <td>...</td>\n",
       "      <td>23.41</td>\n",
       "      <td>158.80</td>\n",
       "      <td>1956.0</td>\n",
       "      <td>0.1238</td>\n",
       "      <td>0.1866</td>\n",
       "      <td>0.2416</td>\n",
       "      <td>0.1860</td>\n",
       "      <td>0.2750</td>\n",
       "      <td>0.08902</td>\n",
       "      <td>NaN</td>\n",
       "    </tr>\n",
       "    <tr>\n",
       "      <th>2</th>\n",
       "      <td>84300903</td>\n",
       "      <td>M</td>\n",
       "      <td>19.69</td>\n",
       "      <td>21.25</td>\n",
       "      <td>130.00</td>\n",
       "      <td>1203.0</td>\n",
       "      <td>0.10960</td>\n",
       "      <td>0.15990</td>\n",
       "      <td>0.1974</td>\n",
       "      <td>0.12790</td>\n",
       "      <td>...</td>\n",
       "      <td>25.53</td>\n",
       "      <td>152.50</td>\n",
       "      <td>1709.0</td>\n",
       "      <td>0.1444</td>\n",
       "      <td>0.4245</td>\n",
       "      <td>0.4504</td>\n",
       "      <td>0.2430</td>\n",
       "      <td>0.3613</td>\n",
       "      <td>0.08758</td>\n",
       "      <td>NaN</td>\n",
       "    </tr>\n",
       "    <tr>\n",
       "      <th>3</th>\n",
       "      <td>84348301</td>\n",
       "      <td>M</td>\n",
       "      <td>11.42</td>\n",
       "      <td>20.38</td>\n",
       "      <td>77.58</td>\n",
       "      <td>386.1</td>\n",
       "      <td>0.14250</td>\n",
       "      <td>0.28390</td>\n",
       "      <td>0.2414</td>\n",
       "      <td>0.10520</td>\n",
       "      <td>...</td>\n",
       "      <td>26.50</td>\n",
       "      <td>98.87</td>\n",
       "      <td>567.7</td>\n",
       "      <td>0.2098</td>\n",
       "      <td>0.8663</td>\n",
       "      <td>0.6869</td>\n",
       "      <td>0.2575</td>\n",
       "      <td>0.6638</td>\n",
       "      <td>0.17300</td>\n",
       "      <td>NaN</td>\n",
       "    </tr>\n",
       "    <tr>\n",
       "      <th>4</th>\n",
       "      <td>84358402</td>\n",
       "      <td>M</td>\n",
       "      <td>20.29</td>\n",
       "      <td>14.34</td>\n",
       "      <td>135.10</td>\n",
       "      <td>1297.0</td>\n",
       "      <td>0.10030</td>\n",
       "      <td>0.13280</td>\n",
       "      <td>0.1980</td>\n",
       "      <td>0.10430</td>\n",
       "      <td>...</td>\n",
       "      <td>16.67</td>\n",
       "      <td>152.20</td>\n",
       "      <td>1575.0</td>\n",
       "      <td>0.1374</td>\n",
       "      <td>0.2050</td>\n",
       "      <td>0.4000</td>\n",
       "      <td>0.1625</td>\n",
       "      <td>0.2364</td>\n",
       "      <td>0.07678</td>\n",
       "      <td>NaN</td>\n",
       "    </tr>\n",
       "  </tbody>\n",
       "</table>\n",
       "<p>5 rows × 33 columns</p>\n",
       "</div>"
      ],
      "text/plain": [
       "         id diagnosis  radius_mean  texture_mean  perimeter_mean  area_mean  \\\n",
       "0    842302         M        17.99         10.38          122.80     1001.0   \n",
       "1    842517         M        20.57         17.77          132.90     1326.0   \n",
       "2  84300903         M        19.69         21.25          130.00     1203.0   \n",
       "3  84348301         M        11.42         20.38           77.58      386.1   \n",
       "4  84358402         M        20.29         14.34          135.10     1297.0   \n",
       "\n",
       "   smoothness_mean  compactness_mean  concavity_mean  concave points_mean  \\\n",
       "0          0.11840           0.27760          0.3001              0.14710   \n",
       "1          0.08474           0.07864          0.0869              0.07017   \n",
       "2          0.10960           0.15990          0.1974              0.12790   \n",
       "3          0.14250           0.28390          0.2414              0.10520   \n",
       "4          0.10030           0.13280          0.1980              0.10430   \n",
       "\n",
       "   ...  texture_worst  perimeter_worst  area_worst  smoothness_worst  \\\n",
       "0  ...          17.33           184.60      2019.0            0.1622   \n",
       "1  ...          23.41           158.80      1956.0            0.1238   \n",
       "2  ...          25.53           152.50      1709.0            0.1444   \n",
       "3  ...          26.50            98.87       567.7            0.2098   \n",
       "4  ...          16.67           152.20      1575.0            0.1374   \n",
       "\n",
       "   compactness_worst  concavity_worst  concave points_worst  symmetry_worst  \\\n",
       "0             0.6656           0.7119                0.2654          0.4601   \n",
       "1             0.1866           0.2416                0.1860          0.2750   \n",
       "2             0.4245           0.4504                0.2430          0.3613   \n",
       "3             0.8663           0.6869                0.2575          0.6638   \n",
       "4             0.2050           0.4000                0.1625          0.2364   \n",
       "\n",
       "   fractal_dimension_worst  Unnamed: 32  \n",
       "0                  0.11890          NaN  \n",
       "1                  0.08902          NaN  \n",
       "2                  0.08758          NaN  \n",
       "3                  0.17300          NaN  \n",
       "4                  0.07678          NaN  \n",
       "\n",
       "[5 rows x 33 columns]"
      ]
     },
     "execution_count": 6,
     "metadata": {},
     "output_type": "execute_result"
    }
   ],
   "source": [
    "breast_cancer.head()"
   ]
  },
  {
   "cell_type": "code",
   "execution_count": 7,
   "metadata": {},
   "outputs": [
    {
     "data": {
      "text/plain": [
       "(569, 33)"
      ]
     },
     "execution_count": 7,
     "metadata": {},
     "output_type": "execute_result"
    }
   ],
   "source": [
    "breast_cancer.shape"
   ]
  },
  {
   "cell_type": "code",
   "execution_count": 8,
   "metadata": {},
   "outputs": [
    {
     "data": {
      "text/plain": [
       "B    357\n",
       "M    212\n",
       "Name: diagnosis, dtype: int64"
      ]
     },
     "execution_count": 8,
     "metadata": {},
     "output_type": "execute_result"
    }
   ],
   "source": [
    "breast_cancer.diagnosis.value_counts()"
   ]
  },
  {
   "cell_type": "markdown",
   "metadata": {
    "id": "sN3r0f1qYFtt"
   },
   "source": [
    "### 2. EDA\n",
    "\n",
    "Explore dataset. Check for nulls. Make the target column binary."
   ]
  },
  {
   "cell_type": "code",
   "execution_count": 9,
   "metadata": {},
   "outputs": [
    {
     "name": "stdout",
     "output_type": "stream",
     "text": [
      "id                           0\n",
      "diagnosis                    0\n",
      "radius_mean                  0\n",
      "texture_mean                 0\n",
      "perimeter_mean               0\n",
      "area_mean                    0\n",
      "smoothness_mean              0\n",
      "compactness_mean             0\n",
      "concavity_mean               0\n",
      "concave points_mean          0\n",
      "symmetry_mean                0\n",
      "fractal_dimension_mean       0\n",
      "radius_se                    0\n",
      "texture_se                   0\n",
      "perimeter_se                 0\n",
      "area_se                      0\n",
      "smoothness_se                0\n",
      "compactness_se               0\n",
      "concavity_se                 0\n",
      "concave points_se            0\n",
      "symmetry_se                  0\n",
      "fractal_dimension_se         0\n",
      "radius_worst                 0\n",
      "texture_worst                0\n",
      "perimeter_worst              0\n",
      "area_worst                   0\n",
      "smoothness_worst             0\n",
      "compactness_worst            0\n",
      "concavity_worst              0\n",
      "concave points_worst         0\n",
      "symmetry_worst               0\n",
      "fractal_dimension_worst      0\n",
      "Unnamed: 32                569\n",
      "dtype: int64\n"
     ]
    }
   ],
   "source": [
    "null_counts = breast_cancer.isnull().sum()\n",
    "print(null_counts)"
   ]
  },
  {
   "cell_type": "code",
   "execution_count": 10,
   "metadata": {
    "scrolled": false
   },
   "outputs": [
    {
     "data": {
      "text/html": [
       "<div>\n",
       "<style scoped>\n",
       "    .dataframe tbody tr th:only-of-type {\n",
       "        vertical-align: middle;\n",
       "    }\n",
       "\n",
       "    .dataframe tbody tr th {\n",
       "        vertical-align: top;\n",
       "    }\n",
       "\n",
       "    .dataframe thead th {\n",
       "        text-align: right;\n",
       "    }\n",
       "</style>\n",
       "<table border=\"1\" class=\"dataframe\">\n",
       "  <thead>\n",
       "    <tr style=\"text-align: right;\">\n",
       "      <th></th>\n",
       "      <th>id</th>\n",
       "      <th>diagnosis</th>\n",
       "      <th>radius_mean</th>\n",
       "      <th>texture_mean</th>\n",
       "      <th>perimeter_mean</th>\n",
       "      <th>area_mean</th>\n",
       "      <th>smoothness_mean</th>\n",
       "      <th>compactness_mean</th>\n",
       "      <th>concavity_mean</th>\n",
       "      <th>concave points_mean</th>\n",
       "      <th>...</th>\n",
       "      <th>texture_worst</th>\n",
       "      <th>perimeter_worst</th>\n",
       "      <th>area_worst</th>\n",
       "      <th>smoothness_worst</th>\n",
       "      <th>compactness_worst</th>\n",
       "      <th>concavity_worst</th>\n",
       "      <th>concave points_worst</th>\n",
       "      <th>symmetry_worst</th>\n",
       "      <th>fractal_dimension_worst</th>\n",
       "      <th>Unnamed: 32</th>\n",
       "    </tr>\n",
       "  </thead>\n",
       "  <tbody>\n",
       "    <tr>\n",
       "      <th>0</th>\n",
       "      <td>842302</td>\n",
       "      <td>1</td>\n",
       "      <td>17.99</td>\n",
       "      <td>10.38</td>\n",
       "      <td>122.80</td>\n",
       "      <td>1001.0</td>\n",
       "      <td>0.11840</td>\n",
       "      <td>0.27760</td>\n",
       "      <td>0.3001</td>\n",
       "      <td>0.14710</td>\n",
       "      <td>...</td>\n",
       "      <td>17.33</td>\n",
       "      <td>184.60</td>\n",
       "      <td>2019.0</td>\n",
       "      <td>0.1622</td>\n",
       "      <td>0.6656</td>\n",
       "      <td>0.7119</td>\n",
       "      <td>0.2654</td>\n",
       "      <td>0.4601</td>\n",
       "      <td>0.11890</td>\n",
       "      <td>NaN</td>\n",
       "    </tr>\n",
       "    <tr>\n",
       "      <th>1</th>\n",
       "      <td>842517</td>\n",
       "      <td>1</td>\n",
       "      <td>20.57</td>\n",
       "      <td>17.77</td>\n",
       "      <td>132.90</td>\n",
       "      <td>1326.0</td>\n",
       "      <td>0.08474</td>\n",
       "      <td>0.07864</td>\n",
       "      <td>0.0869</td>\n",
       "      <td>0.07017</td>\n",
       "      <td>...</td>\n",
       "      <td>23.41</td>\n",
       "      <td>158.80</td>\n",
       "      <td>1956.0</td>\n",
       "      <td>0.1238</td>\n",
       "      <td>0.1866</td>\n",
       "      <td>0.2416</td>\n",
       "      <td>0.1860</td>\n",
       "      <td>0.2750</td>\n",
       "      <td>0.08902</td>\n",
       "      <td>NaN</td>\n",
       "    </tr>\n",
       "    <tr>\n",
       "      <th>2</th>\n",
       "      <td>84300903</td>\n",
       "      <td>1</td>\n",
       "      <td>19.69</td>\n",
       "      <td>21.25</td>\n",
       "      <td>130.00</td>\n",
       "      <td>1203.0</td>\n",
       "      <td>0.10960</td>\n",
       "      <td>0.15990</td>\n",
       "      <td>0.1974</td>\n",
       "      <td>0.12790</td>\n",
       "      <td>...</td>\n",
       "      <td>25.53</td>\n",
       "      <td>152.50</td>\n",
       "      <td>1709.0</td>\n",
       "      <td>0.1444</td>\n",
       "      <td>0.4245</td>\n",
       "      <td>0.4504</td>\n",
       "      <td>0.2430</td>\n",
       "      <td>0.3613</td>\n",
       "      <td>0.08758</td>\n",
       "      <td>NaN</td>\n",
       "    </tr>\n",
       "    <tr>\n",
       "      <th>3</th>\n",
       "      <td>84348301</td>\n",
       "      <td>1</td>\n",
       "      <td>11.42</td>\n",
       "      <td>20.38</td>\n",
       "      <td>77.58</td>\n",
       "      <td>386.1</td>\n",
       "      <td>0.14250</td>\n",
       "      <td>0.28390</td>\n",
       "      <td>0.2414</td>\n",
       "      <td>0.10520</td>\n",
       "      <td>...</td>\n",
       "      <td>26.50</td>\n",
       "      <td>98.87</td>\n",
       "      <td>567.7</td>\n",
       "      <td>0.2098</td>\n",
       "      <td>0.8663</td>\n",
       "      <td>0.6869</td>\n",
       "      <td>0.2575</td>\n",
       "      <td>0.6638</td>\n",
       "      <td>0.17300</td>\n",
       "      <td>NaN</td>\n",
       "    </tr>\n",
       "    <tr>\n",
       "      <th>4</th>\n",
       "      <td>84358402</td>\n",
       "      <td>1</td>\n",
       "      <td>20.29</td>\n",
       "      <td>14.34</td>\n",
       "      <td>135.10</td>\n",
       "      <td>1297.0</td>\n",
       "      <td>0.10030</td>\n",
       "      <td>0.13280</td>\n",
       "      <td>0.1980</td>\n",
       "      <td>0.10430</td>\n",
       "      <td>...</td>\n",
       "      <td>16.67</td>\n",
       "      <td>152.20</td>\n",
       "      <td>1575.0</td>\n",
       "      <td>0.1374</td>\n",
       "      <td>0.2050</td>\n",
       "      <td>0.4000</td>\n",
       "      <td>0.1625</td>\n",
       "      <td>0.2364</td>\n",
       "      <td>0.07678</td>\n",
       "      <td>NaN</td>\n",
       "    </tr>\n",
       "  </tbody>\n",
       "</table>\n",
       "<p>5 rows × 33 columns</p>\n",
       "</div>"
      ],
      "text/plain": [
       "         id  diagnosis  radius_mean  texture_mean  perimeter_mean  area_mean  \\\n",
       "0    842302          1        17.99         10.38          122.80     1001.0   \n",
       "1    842517          1        20.57         17.77          132.90     1326.0   \n",
       "2  84300903          1        19.69         21.25          130.00     1203.0   \n",
       "3  84348301          1        11.42         20.38           77.58      386.1   \n",
       "4  84358402          1        20.29         14.34          135.10     1297.0   \n",
       "\n",
       "   smoothness_mean  compactness_mean  concavity_mean  concave points_mean  \\\n",
       "0          0.11840           0.27760          0.3001              0.14710   \n",
       "1          0.08474           0.07864          0.0869              0.07017   \n",
       "2          0.10960           0.15990          0.1974              0.12790   \n",
       "3          0.14250           0.28390          0.2414              0.10520   \n",
       "4          0.10030           0.13280          0.1980              0.10430   \n",
       "\n",
       "   ...  texture_worst  perimeter_worst  area_worst  smoothness_worst  \\\n",
       "0  ...          17.33           184.60      2019.0            0.1622   \n",
       "1  ...          23.41           158.80      1956.0            0.1238   \n",
       "2  ...          25.53           152.50      1709.0            0.1444   \n",
       "3  ...          26.50            98.87       567.7            0.2098   \n",
       "4  ...          16.67           152.20      1575.0            0.1374   \n",
       "\n",
       "   compactness_worst  concavity_worst  concave points_worst  symmetry_worst  \\\n",
       "0             0.6656           0.7119                0.2654          0.4601   \n",
       "1             0.1866           0.2416                0.1860          0.2750   \n",
       "2             0.4245           0.4504                0.2430          0.3613   \n",
       "3             0.8663           0.6869                0.2575          0.6638   \n",
       "4             0.2050           0.4000                0.1625          0.2364   \n",
       "\n",
       "   fractal_dimension_worst  Unnamed: 32  \n",
       "0                  0.11890          NaN  \n",
       "1                  0.08902          NaN  \n",
       "2                  0.08758          NaN  \n",
       "3                  0.17300          NaN  \n",
       "4                  0.07678          NaN  \n",
       "\n",
       "[5 rows x 33 columns]"
      ]
     },
     "execution_count": 10,
     "metadata": {},
     "output_type": "execute_result"
    }
   ],
   "source": [
    "breast_cancer['diagnosis'] = breast_cancer['diagnosis'].map({'M': 1, 'B': 0})\n",
    "breast_cancer.head()"
   ]
  },
  {
   "cell_type": "code",
   "execution_count": 11,
   "metadata": {},
   "outputs": [
    {
     "data": {
      "text/plain": [
       "Index(['id', 'diagnosis', 'radius_mean', 'texture_mean', 'perimeter_mean',\n",
       "       'area_mean', 'smoothness_mean', 'compactness_mean', 'concavity_mean',\n",
       "       'concave points_mean', 'symmetry_mean', 'fractal_dimension_mean',\n",
       "       'radius_se', 'texture_se', 'perimeter_se', 'area_se', 'smoothness_se',\n",
       "       'compactness_se', 'concavity_se', 'concave points_se', 'symmetry_se',\n",
       "       'fractal_dimension_se', 'radius_worst', 'texture_worst',\n",
       "       'perimeter_worst', 'area_worst', 'smoothness_worst',\n",
       "       'compactness_worst', 'concavity_worst', 'concave points_worst',\n",
       "       'symmetry_worst', 'fractal_dimension_worst', 'Unnamed: 32'],\n",
       "      dtype='object')"
      ]
     },
     "execution_count": 11,
     "metadata": {},
     "output_type": "execute_result"
    }
   ],
   "source": [
    "breast_cancer.columns"
   ]
  },
  {
   "cell_type": "code",
   "execution_count": 23,
   "metadata": {},
   "outputs": [
    {
     "ename": "SyntaxError",
     "evalue": "incomplete input (737439993.py, line 10)",
     "output_type": "error",
     "traceback": [
      "\u001b[0;36m  Cell \u001b[0;32mIn[23], line 10\u001b[0;36m\u001b[0m\n\u001b[0;31m    'symmetry_worst', 'fractal_dimension_worst', #'Unnamed: 32']\u001b[0m\n\u001b[0m                                                                ^\u001b[0m\n\u001b[0;31mSyntaxError\u001b[0m\u001b[0;31m:\u001b[0m incomplete input\n"
     ]
    }
   ],
   "source": [
    "breast_cancer[[#'id',\n",
    "    'diagnosis', 'radius_mean', 'texture_mean', 'perimeter_mean',\n",
    "       'area_mean', 'smoothness_mean', 'compactness_mean', 'concavity_mean',\n",
    "       'concave points_mean', 'symmetry_mean', 'fractal_dimension_mean',\n",
    "       'radius_se', 'texture_se', 'perimeter_se', 'area_se', 'smoothness_se',\n",
    "       'compactness_se', 'concavity_se', 'concave points_se', 'symmetry_se',\n",
    "       'fractal_dimension_se', 'radius_worst', 'texture_worst',\n",
    "       'perimeter_worst', 'area_worst', 'smoothness_worst',\n",
    "       'compactness_worst', 'concavity_worst', 'concave points_worst',\n",
    "       'symmetry_worst', 'fractal_dimension_worst', #'Unnamed: 32']"
   ]
  },
  {
   "cell_type": "markdown",
   "metadata": {
    "id": "GosA2UJXYFtu"
   },
   "source": [
    "### 3. Logistic Regression Model\n",
    "\n",
    "#### 3.1 Use Logistic Regression\n",
    "\n",
    "Use Logistic Regression and examine accuracy score, confusion matrix, classification report for that model."
   ]
  },
  {
   "cell_type": "code",
   "execution_count": 24,
   "metadata": {},
   "outputs": [],
   "source": [
    "import pandas as pd\n",
    "from sklearn.model_selection import train_test_split\n",
    "from sklearn.linear_model import LogisticRegression\n",
    "from sklearn import metrics\n",
    "import seaborn as sn\n",
    "import matplotlib.pyplot as plt"
   ]
  },
  {
   "cell_type": "code",
   "execution_count": 25,
   "metadata": {},
   "outputs": [],
   "source": [
    "X = breast_cancer[[ 'diagnosis', 'radius_mean', 'texture_mean', 'perimeter_mean',\n",
    "       'area_mean', 'smoothness_mean', 'compactness_mean', 'concavity_mean',\n",
    "       'concave points_mean', 'symmetry_mean', 'fractal_dimension_mean',\n",
    "       'radius_se', 'texture_se', 'perimeter_se', 'area_se', 'smoothness_se',\n",
    "       'compactness_se', 'concavity_se', 'concave points_se', 'symmetry_se',\n",
    "       'fractal_dimension_se', 'radius_worst', 'texture_worst',\n",
    "       'perimeter_worst', 'area_worst', 'smoothness_worst',\n",
    "       'compactness_worst', 'concavity_worst', 'concave points_worst',\n",
    "       'symmetry_worst', 'fractal_dimension_worst']]\n",
    "y = breast_cancer['diagnosis']"
   ]
  },
  {
   "cell_type": "code",
   "execution_count": 26,
   "metadata": {},
   "outputs": [],
   "source": [
    "X_train,X_test,y_train,y_test = train_test_split(X,y,test_size=0.3,random_state=0)"
   ]
  },
  {
   "cell_type": "code",
   "execution_count": 27,
   "metadata": {
    "scrolled": true
   },
   "outputs": [
    {
     "name": "stderr",
     "output_type": "stream",
     "text": [
      "/Users/ayano/anaconda3/lib/python3.11/site-packages/sklearn/linear_model/_logistic.py:460: ConvergenceWarning: lbfgs failed to converge (status=1):\n",
      "STOP: TOTAL NO. of ITERATIONS REACHED LIMIT.\n",
      "\n",
      "Increase the number of iterations (max_iter) or scale the data as shown in:\n",
      "    https://scikit-learn.org/stable/modules/preprocessing.html\n",
      "Please also refer to the documentation for alternative solver options:\n",
      "    https://scikit-learn.org/stable/modules/linear_model.html#logistic-regression\n",
      "  n_iter_i = _check_optimize_result(\n"
     ]
    }
   ],
   "source": [
    "lr= LogisticRegression()\n",
    "\n",
    "lr.fit(X_train,y_train)\n",
    "\n",
    "y_pred=lr.predict(X_test)"
   ]
  },
  {
   "cell_type": "code",
   "execution_count": 28,
   "metadata": {},
   "outputs": [
    {
     "name": "stdout",
     "output_type": "stream",
     "text": [
      "X_train： (398, 31)\n",
      "y_train： (398,)\n"
     ]
    }
   ],
   "source": [
    "# 訓練データの確認\n",
    "print('X_train：',X_train.shape)\n",
    "print('y_train：',y_train.shape)"
   ]
  },
  {
   "cell_type": "code",
   "execution_count": 29,
   "metadata": {},
   "outputs": [
    {
     "name": "stdout",
     "output_type": "stream",
     "text": [
      "X_test： (171, 31)\n",
      "y_test： (171,)\n"
     ]
    }
   ],
   "source": [
    "# テストデータの確認\n",
    "print('X_test：',X_test.shape)\n",
    "print('y_test：',y_test.shape)"
   ]
  },
  {
   "cell_type": "code",
   "execution_count": 30,
   "metadata": {},
   "outputs": [
    {
     "data": {
      "text/plain": [
       "array([1, 0, 0, 0, 0, 0, 0, 0, 0, 0, 0, 0, 0, 1, 0, 1, 0, 1, 1, 1, 1, 1,\n",
       "       0, 0, 1, 0, 0, 1, 0, 1, 0, 1, 0, 1, 0, 1, 0, 1, 0, 1, 1, 0, 1, 0,\n",
       "       0, 1, 0, 0, 0, 1, 1, 0, 1, 0, 0, 0, 0, 0, 0, 1, 1, 1, 0, 0, 1, 0,\n",
       "       1, 1, 1, 0, 0, 1, 0, 1, 1, 0, 0, 0, 0, 0, 1, 1, 1, 0, 1, 0, 0, 0,\n",
       "       1, 1, 0, 1, 0, 1, 0, 0, 1, 0, 0, 0, 0, 0, 0, 0, 1, 0, 1, 0, 1, 1,\n",
       "       0, 1, 1, 0, 0, 0, 0, 0, 0, 0, 0, 0, 1, 0, 1, 0, 0, 0, 0, 0, 1, 0,\n",
       "       0, 0, 0, 0, 0, 1, 1, 0, 0, 0, 1, 0, 0, 1, 0, 1, 0, 0, 0, 0, 0, 0,\n",
       "       0, 1, 0, 1, 0, 1, 1, 0, 0, 1, 0, 1, 1, 1, 0, 0, 0])"
      ]
     },
     "execution_count": 30,
     "metadata": {},
     "output_type": "execute_result"
    }
   ],
   "source": [
    "y_pred"
   ]
  },
  {
   "cell_type": "code",
   "execution_count": 31,
   "metadata": {},
   "outputs": [
    {
     "data": {
      "text/plain": [
       "512    1\n",
       "457    0\n",
       "439    0\n",
       "298    0\n",
       "37     0\n",
       "      ..\n",
       "7      1\n",
       "408    1\n",
       "523    0\n",
       "361    0\n",
       "553    0\n",
       "Name: diagnosis, Length: 171, dtype: int64"
      ]
     },
     "execution_count": 31,
     "metadata": {},
     "output_type": "execute_result"
    }
   ],
   "source": [
    "y_test"
   ]
  },
  {
   "cell_type": "code",
   "execution_count": 32,
   "metadata": {},
   "outputs": [
    {
     "data": {
      "text/plain": [
       "array([[2.34660351e-03, 9.97653396e-01],\n",
       "       [9.76597953e-01, 2.34020470e-02],\n",
       "       [9.99636917e-01, 3.63082873e-04],\n",
       "       [9.42755380e-01, 5.72446195e-02],\n",
       "       [9.99941453e-01, 5.85465402e-05],\n",
       "       [9.98967126e-01, 1.03287368e-03],\n",
       "       [9.98881697e-01, 1.11830296e-03],\n",
       "       [9.98909255e-01, 1.09074498e-03],\n",
       "       [9.43505609e-01, 5.64943914e-02],\n",
       "       [9.99813701e-01, 1.86299386e-04],\n",
       "       [9.52771725e-01, 4.72282749e-02],\n",
       "       [9.44451480e-01, 5.55485196e-02],\n",
       "       [9.97998580e-01, 2.00141986e-03],\n",
       "       [3.57918714e-01, 6.42081286e-01],\n",
       "       [9.81415352e-01, 1.85846483e-02],\n",
       "       [4.89167635e-03, 9.95108324e-01],\n",
       "       [9.95962822e-01, 4.03717846e-03],\n",
       "       [2.03077111e-10, 1.00000000e+00],\n",
       "       [3.86062039e-04, 9.99613938e-01],\n",
       "       [4.02788913e-13, 1.00000000e+00],\n",
       "       [7.32335264e-06, 9.99992677e-01],\n",
       "       [1.08831089e-01, 8.91168911e-01],\n",
       "       [9.99795499e-01, 2.04500579e-04],\n",
       "       [9.95475829e-01, 4.52417123e-03],\n",
       "       [1.00198228e-02, 9.89980177e-01],\n",
       "       [9.92074099e-01, 7.92590116e-03],\n",
       "       [9.98961137e-01, 1.03886317e-03],\n",
       "       [2.40020717e-01, 7.59979283e-01],\n",
       "       [9.99297162e-01, 7.02838494e-04],\n",
       "       [8.74189610e-13, 1.00000000e+00],\n",
       "       [9.99887694e-01, 1.12305685e-04],\n",
       "       [1.66459180e-09, 9.99999998e-01],\n",
       "       [9.47405863e-01, 5.25941366e-02],\n",
       "       [7.17345332e-05, 9.99928265e-01],\n",
       "       [9.99936409e-01, 6.35910863e-05],\n",
       "       [1.16767539e-04, 9.99883232e-01],\n",
       "       [9.70972287e-01, 2.90277134e-02],\n",
       "       [2.64445680e-07, 9.99999736e-01],\n",
       "       [9.99216988e-01, 7.83012038e-04],\n",
       "       [2.80788025e-05, 9.99971921e-01],\n",
       "       [3.22931633e-03, 9.96770684e-01],\n",
       "       [9.98144726e-01, 1.85527370e-03],\n",
       "       [1.01147916e-04, 9.99898852e-01],\n",
       "       [9.99486502e-01, 5.13497783e-04],\n",
       "       [6.93046909e-01, 3.06953091e-01],\n",
       "       [7.19424520e-14, 1.00000000e+00],\n",
       "       [9.99849660e-01, 1.50339824e-04],\n",
       "       [9.79477505e-01, 2.05224948e-02],\n",
       "       [9.98482717e-01, 1.51728300e-03],\n",
       "       [2.24667711e-04, 9.99775332e-01],\n",
       "       [2.18516238e-06, 9.99997815e-01],\n",
       "       [6.04935951e-01, 3.95064049e-01],\n",
       "       [2.67659053e-08, 9.99999973e-01],\n",
       "       [9.98743275e-01, 1.25672519e-03],\n",
       "       [9.98327423e-01, 1.67257749e-03],\n",
       "       [9.99697935e-01, 3.02065470e-04],\n",
       "       [9.94035196e-01, 5.96480356e-03],\n",
       "       [8.80499181e-01, 1.19500819e-01],\n",
       "       [9.71800446e-01, 2.81995542e-02],\n",
       "       [0.00000000e+00, 1.00000000e+00],\n",
       "       [1.12076737e-03, 9.98879233e-01],\n",
       "       [5.40160247e-06, 9.99994598e-01],\n",
       "       [9.99564305e-01, 4.35695245e-04],\n",
       "       [9.98038279e-01, 1.96172144e-03],\n",
       "       [1.49927644e-08, 9.99999985e-01],\n",
       "       [8.24155418e-01, 1.75844582e-01],\n",
       "       [0.00000000e+00, 1.00000000e+00],\n",
       "       [8.78057563e-07, 9.99999122e-01],\n",
       "       [5.85558291e-09, 9.99999994e-01],\n",
       "       [9.78278546e-01, 2.17214544e-02],\n",
       "       [8.72640507e-01, 1.27359493e-01],\n",
       "       [1.19644052e-06, 9.99998804e-01],\n",
       "       [9.98860832e-01, 1.13916822e-03],\n",
       "       [3.70559077e-01, 6.29440923e-01],\n",
       "       [9.63400284e-07, 9.99999037e-01],\n",
       "       [9.83299424e-01, 1.67005761e-02],\n",
       "       [9.99095580e-01, 9.04420432e-04],\n",
       "       [9.98477782e-01, 1.52221776e-03],\n",
       "       [9.98013081e-01, 1.98691938e-03],\n",
       "       [9.86364019e-01, 1.36359807e-02],\n",
       "       [4.31742631e-04, 9.99568257e-01],\n",
       "       [1.65495306e-09, 9.99999998e-01],\n",
       "       [2.13035304e-06, 9.99997870e-01],\n",
       "       [9.99705583e-01, 2.94417314e-04],\n",
       "       [3.68370374e-02, 9.63162963e-01],\n",
       "       [9.99866501e-01, 1.33498844e-04],\n",
       "       [9.99092964e-01, 9.07036426e-04],\n",
       "       [9.98848516e-01, 1.15148390e-03],\n",
       "       [2.42492309e-06, 9.99997575e-01],\n",
       "       [2.39996911e-11, 1.00000000e+00],\n",
       "       [9.99874159e-01, 1.25841390e-04],\n",
       "       [1.70037204e-01, 8.29962796e-01],\n",
       "       [6.55605241e-01, 3.44394759e-01],\n",
       "       [5.43939871e-04, 9.99456060e-01],\n",
       "       [9.35262938e-01, 6.47370624e-02],\n",
       "       [9.94991789e-01, 5.00821117e-03],\n",
       "       [0.00000000e+00, 1.00000000e+00],\n",
       "       [9.95860111e-01, 4.13988869e-03],\n",
       "       [9.83982010e-01, 1.60179898e-02],\n",
       "       [9.88260627e-01, 1.17393734e-02],\n",
       "       [9.99707539e-01, 2.92461211e-04],\n",
       "       [9.97805023e-01, 2.19497672e-03],\n",
       "       [9.98034002e-01, 1.96599800e-03],\n",
       "       [9.66796842e-01, 3.32031577e-02],\n",
       "       [9.52344903e-09, 9.99999990e-01],\n",
       "       [9.99698489e-01, 3.01510787e-04],\n",
       "       [2.36037746e-04, 9.99763962e-01],\n",
       "       [9.49546617e-01, 5.04533835e-02],\n",
       "       [1.57254395e-02, 9.84274561e-01],\n",
       "       [1.04002046e-01, 8.95997954e-01],\n",
       "       [9.94868047e-01, 5.13195272e-03],\n",
       "       [5.75882699e-04, 9.99424117e-01],\n",
       "       [1.75219715e-06, 9.99998248e-01],\n",
       "       [9.85051154e-01, 1.49488457e-02],\n",
       "       [9.92328359e-01, 7.67164053e-03],\n",
       "       [8.62120345e-01, 1.37879655e-01],\n",
       "       [9.94795819e-01, 5.20418126e-03],\n",
       "       [9.99809382e-01, 1.90618203e-04],\n",
       "       [8.62236016e-01, 1.37763984e-01],\n",
       "       [9.99691531e-01, 3.08469141e-04],\n",
       "       [9.95463944e-01, 4.53605637e-03],\n",
       "       [9.99601258e-01, 3.98742392e-04],\n",
       "       [8.89126725e-03, 9.91108733e-01],\n",
       "       [9.98444331e-01, 1.55566936e-03],\n",
       "       [3.95074018e-09, 9.99999996e-01],\n",
       "       [9.85091149e-01, 1.49088514e-02],\n",
       "       [7.85170899e-01, 2.14829101e-01],\n",
       "       [9.99917093e-01, 8.29068056e-05],\n",
       "       [9.99743158e-01, 2.56842410e-04],\n",
       "       [9.99256125e-01, 7.43875324e-04],\n",
       "       [3.47172619e-07, 9.99999653e-01],\n",
       "       [9.88330026e-01, 1.16699737e-02],\n",
       "       [9.99475375e-01, 5.24624632e-04],\n",
       "       [9.89100201e-01, 1.08997994e-02],\n",
       "       [9.78178566e-01, 2.18214342e-02],\n",
       "       [9.99973943e-01, 2.60565749e-05],\n",
       "       [8.67660227e-01, 1.32339773e-01],\n",
       "       [7.72767230e-03, 9.92272328e-01],\n",
       "       [0.00000000e+00, 1.00000000e+00],\n",
       "       [9.99745091e-01, 2.54908584e-04],\n",
       "       [9.99555455e-01, 4.44545349e-04],\n",
       "       [9.99940662e-01, 5.93381473e-05],\n",
       "       [4.88498131e-15, 1.00000000e+00],\n",
       "       [9.96952385e-01, 3.04761509e-03],\n",
       "       [9.99056092e-01, 9.43907710e-04],\n",
       "       [1.87652560e-10, 1.00000000e+00],\n",
       "       [9.62154553e-01, 3.78454468e-02],\n",
       "       [7.53626870e-02, 9.24637313e-01],\n",
       "       [9.91334359e-01, 8.66564118e-03],\n",
       "       [9.93797829e-01, 6.20217103e-03],\n",
       "       [9.99155326e-01, 8.44673719e-04],\n",
       "       [9.96885471e-01, 3.11452898e-03],\n",
       "       [9.91449490e-01, 8.55050965e-03],\n",
       "       [9.84246367e-01, 1.57536335e-02],\n",
       "       [9.99473145e-01, 5.26855049e-04],\n",
       "       [4.82432748e-03, 9.95175673e-01],\n",
       "       [9.85165513e-01, 1.48344872e-02],\n",
       "       [3.53646259e-03, 9.96463537e-01],\n",
       "       [9.99241802e-01, 7.58198231e-04],\n",
       "       [2.42600245e-08, 9.99999976e-01],\n",
       "       [1.26601097e-07, 9.99999873e-01],\n",
       "       [9.96760945e-01, 3.23905455e-03],\n",
       "       [9.29156880e-01, 7.08431199e-02],\n",
       "       [4.45163538e-06, 9.99995548e-01],\n",
       "       [9.99425170e-01, 5.74829893e-04],\n",
       "       [7.27012735e-03, 9.92729873e-01],\n",
       "       [1.40684724e-03, 9.98593153e-01],\n",
       "       [2.92746681e-04, 9.99707253e-01],\n",
       "       [9.83992068e-01, 1.60079325e-02],\n",
       "       [9.93609631e-01, 6.39036874e-03],\n",
       "       [9.99220052e-01, 7.79948271e-04]])"
      ]
     },
     "execution_count": 32,
     "metadata": {},
     "output_type": "execute_result"
    }
   ],
   "source": [
    "lr.predict_proba(X_test)"
   ]
  },
  {
   "cell_type": "code",
   "execution_count": 33,
   "metadata": {},
   "outputs": [
    {
     "data": {
      "text/plain": [
       "<Axes: xlabel='Predicted', ylabel='Actual'>"
      ]
     },
     "execution_count": 33,
     "metadata": {},
     "output_type": "execute_result"
    },
    {
     "data": {
      "image/png": "[encoded data removed]",
      "text/plain": [
       "<Figure size 640x480 with 2 Axes>"
      ]
     },
     "metadata": {},
     "output_type": "display_data"
    }
   ],
   "source": [
    "confusion_matrix = pd.crosstab(y_test, y_pred, rownames=['Actual'], colnames=['Predicted'])\n",
    "\n",
    "sn.heatmap(confusion_matrix, annot=True)"
   ]
  },
  {
   "cell_type": "markdown",
   "metadata": {
    "id": "GCYINgENYFtw"
   },
   "source": [
    "#### 3.2 Calculate the predicted labels and predicted probabilities on the test set."
   ]
  },
  {
   "cell_type": "code",
   "execution_count": 39,
   "metadata": {
    "ExecuteTime": {
     "end_time": "2019-05-06T03:07:34.783478Z",
     "start_time": "2019-05-06T03:07:34.777492Z"
    },
    "id": "sHo6u5jMYFty"
   },
   "outputs": [
    {
     "name": "stdout",
     "output_type": "stream",
     "text": [
      "予測ラベル: [1 0 0 0 0 0 0 0 0 0 0 0 0 1 0 1 0 1 1 1 1 1 0 0 1 0 0 1 0 1 0 1 0 1 0 1 0\n",
      " 1 0 1 1 0 1 0 0 1 0 0 0 1 1 0 1 0 0 0 0 0 0 1 1 1 0 0 1 0 1 1 1 0 0 1 0 1\n",
      " 1 0 0 0 0 0 1 1 1 0 1 0 0 0 1 1 0 1 0 1 0 0 1 0 0 0 0 0 0 0 1 0 1 0 1 1 0\n",
      " 1 1 0 0 0 0 0 0 0 0 0 1 0 1 0 0 0 0 0 1 0 0 0 0 0 0 1 1 0 0 0 1 0 0 1 0 1\n",
      " 0 0 0 0 0 0 0 1 0 1 0 1 1 0 0 1 0 1 1 1 0 0 0]\n",
      "予測確率:\n",
      " [[2.34660351e-03 9.97653396e-01]\n",
      " [9.76597953e-01 2.34020470e-02]\n",
      " [9.99636917e-01 3.63082873e-04]\n",
      " [9.42755380e-01 5.72446195e-02]\n",
      " [9.99941453e-01 5.85465402e-05]\n",
      " [9.98967126e-01 1.03287368e-03]\n",
      " [9.98881697e-01 1.11830296e-03]\n",
      " [9.98909255e-01 1.09074498e-03]\n",
      " [9.43505609e-01 5.64943914e-02]\n",
      " [9.99813701e-01 1.86299386e-04]\n",
      " [9.52771725e-01 4.72282749e-02]\n",
      " [9.44451480e-01 5.55485196e-02]\n",
      " [9.97998580e-01 2.00141986e-03]\n",
      " [3.57918714e-01 6.42081286e-01]\n",
      " [9.81415352e-01 1.85846483e-02]\n",
      " [4.89167635e-03 9.95108324e-01]\n",
      " [9.95962822e-01 4.03717846e-03]\n",
      " [2.03077111e-10 1.00000000e+00]\n",
      " [3.86062039e-04 9.99613938e-01]\n",
      " [4.02788913e-13 1.00000000e+00]\n",
      " [7.32335264e-06 9.99992677e-01]\n",
      " [1.08831089e-01 8.91168911e-01]\n",
      " [9.99795499e-01 2.04500579e-04]\n",
      " [9.95475829e-01 4.52417123e-03]\n",
      " [1.00198228e-02 9.89980177e-01]\n",
      " [9.92074099e-01 7.92590116e-03]\n",
      " [9.98961137e-01 1.03886317e-03]\n",
      " [2.40020717e-01 7.59979283e-01]\n",
      " [9.99297162e-01 7.02838494e-04]\n",
      " [8.74189610e-13 1.00000000e+00]\n",
      " [9.99887694e-01 1.12305685e-04]\n",
      " [1.66459180e-09 9.99999998e-01]\n",
      " [9.47405863e-01 5.25941366e-02]\n",
      " [7.17345332e-05 9.99928265e-01]\n",
      " [9.99936409e-01 6.35910863e-05]\n",
      " [1.16767539e-04 9.99883232e-01]\n",
      " [9.70972287e-01 2.90277134e-02]\n",
      " [2.64445680e-07 9.99999736e-01]\n",
      " [9.99216988e-01 7.83012038e-04]\n",
      " [2.80788025e-05 9.99971921e-01]\n",
      " [3.22931633e-03 9.96770684e-01]\n",
      " [9.98144726e-01 1.85527370e-03]\n",
      " [1.01147916e-04 9.99898852e-01]\n",
      " [9.99486502e-01 5.13497783e-04]\n",
      " [6.93046909e-01 3.06953091e-01]\n",
      " [7.19424520e-14 1.00000000e+00]\n",
      " [9.99849660e-01 1.50339824e-04]\n",
      " [9.79477505e-01 2.05224948e-02]\n",
      " [9.98482717e-01 1.51728300e-03]\n",
      " [2.24667711e-04 9.99775332e-01]\n",
      " [2.18516238e-06 9.99997815e-01]\n",
      " [6.04935951e-01 3.95064049e-01]\n",
      " [2.67659053e-08 9.99999973e-01]\n",
      " [9.98743275e-01 1.25672519e-03]\n",
      " [9.98327423e-01 1.67257749e-03]\n",
      " [9.99697935e-01 3.02065470e-04]\n",
      " [9.94035196e-01 5.96480356e-03]\n",
      " [8.80499181e-01 1.19500819e-01]\n",
      " [9.71800446e-01 2.81995542e-02]\n",
      " [0.00000000e+00 1.00000000e+00]\n",
      " [1.12076737e-03 9.98879233e-01]\n",
      " [5.40160247e-06 9.99994598e-01]\n",
      " [9.99564305e-01 4.35695245e-04]\n",
      " [9.98038279e-01 1.96172144e-03]\n",
      " [1.49927644e-08 9.99999985e-01]\n",
      " [8.24155418e-01 1.75844582e-01]\n",
      " [0.00000000e+00 1.00000000e+00]\n",
      " [8.78057563e-07 9.99999122e-01]\n",
      " [5.85558291e-09 9.99999994e-01]\n",
      " [9.78278546e-01 2.17214544e-02]\n",
      " [8.72640507e-01 1.27359493e-01]\n",
      " [1.19644052e-06 9.99998804e-01]\n",
      " [9.98860832e-01 1.13916822e-03]\n",
      " [3.70559077e-01 6.29440923e-01]\n",
      " [9.63400284e-07 9.99999037e-01]\n",
      " [9.83299424e-01 1.67005761e-02]\n",
      " [9.99095580e-01 9.04420432e-04]\n",
      " [9.98477782e-01 1.52221776e-03]\n",
      " [9.98013081e-01 1.98691938e-03]\n",
      " [9.86364019e-01 1.36359807e-02]\n",
      " [4.31742631e-04 9.99568257e-01]\n",
      " [1.65495306e-09 9.99999998e-01]\n",
      " [2.13035304e-06 9.99997870e-01]\n",
      " [9.99705583e-01 2.94417314e-04]\n",
      " [3.68370374e-02 9.63162963e-01]\n",
      " [9.99866501e-01 1.33498844e-04]\n",
      " [9.99092964e-01 9.07036426e-04]\n",
      " [9.98848516e-01 1.15148390e-03]\n",
      " [2.42492309e-06 9.99997575e-01]\n",
      " [2.39996911e-11 1.00000000e+00]\n",
      " [9.99874159e-01 1.25841390e-04]\n",
      " [1.70037204e-01 8.29962796e-01]\n",
      " [6.55605241e-01 3.44394759e-01]\n",
      " [5.43939871e-04 9.99456060e-01]\n",
      " [9.35262938e-01 6.47370624e-02]\n",
      " [9.94991789e-01 5.00821117e-03]\n",
      " [0.00000000e+00 1.00000000e+00]\n",
      " [9.95860111e-01 4.13988869e-03]\n",
      " [9.83982010e-01 1.60179898e-02]\n",
      " [9.88260627e-01 1.17393734e-02]\n",
      " [9.99707539e-01 2.92461211e-04]\n",
      " [9.97805023e-01 2.19497672e-03]\n",
      " [9.98034002e-01 1.96599800e-03]\n",
      " [9.66796842e-01 3.32031577e-02]\n",
      " [9.52344903e-09 9.99999990e-01]\n",
      " [9.99698489e-01 3.01510787e-04]\n",
      " [2.36037746e-04 9.99763962e-01]\n",
      " [9.49546617e-01 5.04533835e-02]\n",
      " [1.57254395e-02 9.84274561e-01]\n",
      " [1.04002046e-01 8.95997954e-01]\n",
      " [9.94868047e-01 5.13195272e-03]\n",
      " [5.75882699e-04 9.99424117e-01]\n",
      " [1.75219715e-06 9.99998248e-01]\n",
      " [9.85051154e-01 1.49488457e-02]\n",
      " [9.92328359e-01 7.67164053e-03]\n",
      " [8.62120345e-01 1.37879655e-01]\n",
      " [9.94795819e-01 5.20418126e-03]\n",
      " [9.99809382e-01 1.90618203e-04]\n",
      " [8.62236016e-01 1.37763984e-01]\n",
      " [9.99691531e-01 3.08469141e-04]\n",
      " [9.95463944e-01 4.53605637e-03]\n",
      " [9.99601258e-01 3.98742392e-04]\n",
      " [8.89126725e-03 9.91108733e-01]\n",
      " [9.98444331e-01 1.55566936e-03]\n",
      " [3.95074018e-09 9.99999996e-01]\n",
      " [9.85091149e-01 1.49088514e-02]\n",
      " [7.85170899e-01 2.14829101e-01]\n",
      " [9.99917093e-01 8.29068056e-05]\n",
      " [9.99743158e-01 2.56842410e-04]\n",
      " [9.99256125e-01 7.43875324e-04]\n",
      " [3.47172619e-07 9.99999653e-01]\n",
      " [9.88330026e-01 1.16699737e-02]\n",
      " [9.99475375e-01 5.24624632e-04]\n",
      " [9.89100201e-01 1.08997994e-02]\n",
      " [9.78178566e-01 2.18214342e-02]\n",
      " [9.99973943e-01 2.60565749e-05]\n",
      " [8.67660227e-01 1.32339773e-01]\n",
      " [7.72767230e-03 9.92272328e-01]\n",
      " [0.00000000e+00 1.00000000e+00]\n",
      " [9.99745091e-01 2.54908584e-04]\n",
      " [9.99555455e-01 4.44545349e-04]\n",
      " [9.99940662e-01 5.93381473e-05]\n",
      " [4.88498131e-15 1.00000000e+00]\n",
      " [9.96952385e-01 3.04761509e-03]\n",
      " [9.99056092e-01 9.43907710e-04]\n",
      " [1.87652560e-10 1.00000000e+00]\n",
      " [9.62154553e-01 3.78454468e-02]\n",
      " [7.53626870e-02 9.24637313e-01]\n",
      " [9.91334359e-01 8.66564118e-03]\n",
      " [9.93797829e-01 6.20217103e-03]\n",
      " [9.99155326e-01 8.44673719e-04]\n",
      " [9.96885471e-01 3.11452898e-03]\n",
      " [9.91449490e-01 8.55050965e-03]\n",
      " [9.84246367e-01 1.57536335e-02]\n",
      " [9.99473145e-01 5.26855049e-04]\n",
      " [4.82432748e-03 9.95175673e-01]\n",
      " [9.85165513e-01 1.48344872e-02]\n",
      " [3.53646259e-03 9.96463537e-01]\n",
      " [9.99241802e-01 7.58198231e-04]\n",
      " [2.42600245e-08 9.99999976e-01]\n",
      " [1.26601097e-07 9.99999873e-01]\n",
      " [9.96760945e-01 3.23905455e-03]\n",
      " [9.29156880e-01 7.08431199e-02]\n",
      " [4.45163538e-06 9.99995548e-01]\n",
      " [9.99425170e-01 5.74829893e-04]\n",
      " [7.27012735e-03 9.92729873e-01]\n",
      " [1.40684724e-03 9.98593153e-01]\n",
      " [2.92746681e-04 9.99707253e-01]\n",
      " [9.83992068e-01 1.60079325e-02]\n",
      " [9.93609631e-01 6.39036874e-03]\n",
      " [9.99220052e-01 7.79948271e-04]]\n"
     ]
    }
   ],
   "source": [
    "# predict test class:\n",
    "# テストセットに対する予測ラベル\n",
    "y_pred_labels = lr.predict(X_test)\n",
    "\n",
    "# predicted test probability:\n",
    "# テストセットに対する予測確率\n",
    "y_pred_probabilities = lr.predict_proba(X_test)\n",
    "\n",
    "\n",
    "# 予測ラベルの表示\n",
    "print(\"予測ラベル:\", y_pred_labels)\n",
    "\n",
    "# 予測確率の表示 (各クラスごとの確率)\n",
    "print(\"予測確率:\\n\", y_pred_probabilities)\n"
   ]
  },
  {
   "cell_type": "markdown",
   "metadata": {
    "id": "aqOb0ZeoYFt3"
   },
   "source": [
    "#### 3.3 Create the confusion matrix for your classfier's performance on the test set.\n",
    "\n",
    "Convert confusion_matrix to a dataframe.\n",
    "\n",
    "    columns=['predicted_healthy', 'predicted_cancer']\n",
    "    index=['is_healthy', 'is_cancer']"
   ]
  },
  {
   "cell_type": "code",
   "execution_count": 41,
   "metadata": {
    "ExecuteTime": {
     "end_time": "2019-05-06T06:11:46.809561Z",
     "start_time": "2019-05-06T06:11:46.805571Z"
    },
    "id": "qQQ-xS0pYFt5"
   },
   "outputs": [
    {
     "name": "stdout",
     "output_type": "stream",
     "text": [
      "            predicted_healthy  predicted_cancer\n",
      "is_healthy                107                 1\n",
      "is_cancer                   1                62\n"
     ]
    }
   ],
   "source": [
    "# ANSWER\n",
    "\n",
    "import pandas as pd\n",
    "from sklearn.metrics import confusion_matrix\n",
    "\n",
    "# 混同行列の作成\n",
    "confusion_data = confusion_matrix(y_test, y_pred_labels)\n",
    "\n",
    "# 混同行列をデータフレームに変換\n",
    "confusion_df = pd.DataFrame(confusion_data, columns=['predicted_healthy', 'predicted_cancer'], index=['is_healthy', 'is_cancer'])\n",
    "\n",
    "# データフレームの表示\n",
    "print(confusion_df)"
   ]
  },
  {
   "cell_type": "markdown",
   "metadata": {
    "ExecuteTime": {
     "end_time": "2019-05-06T03:13:53.991939Z",
     "start_time": "2019-05-06T03:13:53.988945Z"
    },
    "id": "ItAGpq10YFt9"
   },
   "source": [
    "#### 3.4 Calculate Accuracy\n",
    "\n",
    "**Classification Accuracy:** Overall, how often is the classifier correct?\n",
    "\n",
    "    (TP + TN) / float(TP + TN + FP + FN)"
   ]
  },
  {
   "cell_type": "code",
   "execution_count": 44,
   "metadata": {
    "ExecuteTime": {
     "end_time": "2019-05-06T06:12:15.849900Z",
     "start_time": "2019-05-06T06:12:15.844914Z"
    },
    "id": "-QYnqKJuYFt-"
   },
   "outputs": [
    {
     "data": {
      "text/plain": [
       "0.9883040935672515"
      ]
     },
     "execution_count": 44,
     "metadata": {},
     "output_type": "execute_result"
    }
   ],
   "source": [
    "# ANSWER\n",
    "# use float to perform true division, not integer division\n",
    "\n",
    "# TP: True Positive (真陽性)\n",
    "# TN: True Negative (真陰性)\n",
    "# FP: False Positive (偽陽性)\n",
    "# FN: False Negative (偽陰性)\n",
    "\n",
    "TP = 62\n",
    "TN = 107\n",
    "FP = 1\n",
    "FN = 1\n",
    "\n",
    "accuracy = (TP + TN) / float(TP + TN + FP + FN)\n",
    "accuracy"
   ]
  },
  {
   "cell_type": "markdown",
   "metadata": {
    "ExecuteTime": {
     "end_time": "2019-05-06T03:16:42.304954Z",
     "start_time": "2019-05-06T03:16:42.294989Z"
    },
    "id": "XzYMnKx7YFuE"
   },
   "source": [
    "#### 3.5 Calculate Classification Error\n",
    "\n",
    "**Classification Error:** Overall, how often is the classifier incorrect?\n",
    "\n",
    "Also known as \"Misclassification Rate\"\n",
    "\n",
    "    (FP + FN) / float(TP + TN + FP + FN)"
   ]
  },
  {
   "cell_type": "code",
   "execution_count": 47,
   "metadata": {
    "ExecuteTime": {
     "end_time": "2019-05-06T06:12:25.745105Z",
     "start_time": "2019-05-06T06:12:25.740118Z"
    },
    "id": "my9v_1oPYFuF"
   },
   "outputs": [
    {
     "data": {
      "text/plain": [
       "0.011695906432748537"
      ]
     },
     "execution_count": 47,
     "metadata": {},
     "output_type": "execute_result"
    }
   ],
   "source": [
    "# ANSWER\n",
    "\n",
    "TP = 62\n",
    "TN = 107\n",
    "FP = 1\n",
    "FN = 1\n",
    "\n",
    "MisclassificationRate = (FP + FN) / float(TP + TN + FP + FN)\n",
    "MisclassificationRate"
   ]
  },
  {
   "cell_type": "markdown",
   "metadata": {
    "ExecuteTime": {
     "end_time": "2019-05-06T03:19:14.164577Z",
     "start_time": "2019-05-06T03:19:14.151614Z"
    },
    "id": "jRqYr1YKYFuK"
   },
   "source": [
    "#### 3.6 Calculate Sensitivity\n",
    "\n",
    "**Sensitivity:** When the actual value is positive, how often is the prediction correct?\n",
    "\n",
    "Something we want to maximize\n",
    "How \"sensitive\" is the classifier to detecting positive instances?\n",
    "- Also known as \"True Positive Rate\" or \"Recall\"\n",
    "- TP / all positive\n",
    "    - all positive = TP + FN\n",
    "\n",
    "    sensitivity = TP / float(FN + TP)"
   ]
  },
  {
   "cell_type": "code",
   "execution_count": 49,
   "metadata": {
    "ExecuteTime": {
     "end_time": "2019-05-06T06:12:34.315302Z",
     "start_time": "2019-05-06T06:12:34.311273Z"
    },
    "id": "yvnfXQF7YFuM"
   },
   "outputs": [
    {
     "data": {
      "text/plain": [
       "0.9841269841269841"
      ]
     },
     "execution_count": 49,
     "metadata": {},
     "output_type": "execute_result"
    }
   ],
   "source": [
    "# ANSWER\n",
    "\n",
    "TP = 62\n",
    "FN = 1\n",
    "\n",
    "sensitivity = TP / (FN + TP)\n",
    "sensitivity"
   ]
  },
  {
   "cell_type": "markdown",
   "metadata": {
    "id": "SZ67_HJXYFuR"
   },
   "source": [
    "#### 3.7 Calculate Specificity\n",
    "\n",
    "**Specificity:** When the actual value is negative, how often is the prediction correct?\n",
    "\n",
    "- Something we want to maximize. How \"specific\" (or \"selective\") is the classifier in predicting positive instances?\n",
    "- TN / all negative\n",
    "    - all negative = TN + FP\n",
    "\n",
    "    specificity = TN / (TN + FP)"
   ]
  },
  {
   "cell_type": "code",
   "execution_count": 50,
   "metadata": {
    "ExecuteTime": {
     "end_time": "2019-05-06T06:12:42.791861Z",
     "start_time": "2019-05-06T06:12:42.787881Z"
    },
    "id": "1JXPnSQKYFuT"
   },
   "outputs": [
    {
     "data": {
      "text/plain": [
       "0.9907407407407407"
      ]
     },
     "execution_count": 50,
     "metadata": {},
     "output_type": "execute_result"
    }
   ],
   "source": [
    "# ANSWER\n",
    "\n",
    "TN = 107\n",
    "FP = 1\n",
    "\n",
    "specificity = TN / (TN + FP)\n",
    "specificity"
   ]
  },
  {
   "cell_type": "markdown",
   "metadata": {
    "id": "V0dsG6JsYFuY"
   },
   "source": [
    "#### 3.8 Calculate False Positive Rate\n",
    "\n",
    "**False Positive Rate:** When the actual value is negative, how often is the prediction incorrect?\n",
    "\n",
    "    false_positive_rate = FP / float(TN + FP)"
   ]
  },
  {
   "cell_type": "code",
   "execution_count": 51,
   "metadata": {
    "ExecuteTime": {
     "end_time": "2019-05-06T06:12:48.087486Z",
     "start_time": "2019-05-06T06:12:48.082501Z"
    },
    "id": "GuV-0OA7YFuZ"
   },
   "outputs": [
    {
     "data": {
      "text/plain": [
       "0.009259259259259259"
      ]
     },
     "execution_count": 51,
     "metadata": {},
     "output_type": "execute_result"
    }
   ],
   "source": [
    "# ANSWER\n",
    "\n",
    "TN = 107\n",
    "FP = 1\n",
    "\n",
    "false_positive_rate = FP / float(TN + FP)\n",
    "false_positive_rate"
   ]
  },
  {
   "cell_type": "markdown",
   "metadata": {
    "id": "xwxBJ8BOYFue"
   },
   "source": [
    "#### 3.9 Calculate Precision\n",
    "\n",
    "**Precision:** When a positive value is predicted, how often is the prediction correct?\n",
    "\n",
    "How \"precise\" is the classifier when predicting positive instances?\n",
    "\n",
    "    precision = TP / float(TP + FP)"
   ]
  },
  {
   "cell_type": "code",
   "execution_count": 52,
   "metadata": {
    "ExecuteTime": {
     "end_time": "2019-05-06T06:12:53.258617Z",
     "start_time": "2019-05-06T06:12:53.254602Z"
    },
    "id": "H5rH2xDZYFug"
   },
   "outputs": [
    {
     "data": {
      "text/plain": [
       "0.9841269841269841"
      ]
     },
     "execution_count": 52,
     "metadata": {},
     "output_type": "execute_result"
    }
   ],
   "source": [
    "# ANSWER\n",
    "\n",
    "TP = 62\n",
    "FP = 1\n",
    "\n",
    "precision = TP / float(TP + FP)\n",
    "precision "
   ]
  },
  {
   "cell_type": "markdown",
   "metadata": {
    "ExecuteTime": {
     "end_time": "2019-05-06T03:12:41.411567Z",
     "start_time": "2019-05-06T03:12:41.408564Z"
    },
    "id": "UWfNwXoxYFul"
   },
   "source": [
    "#### 3.10 Create a predicted test probability dataframe with column names 'class_0_pp','class_1_pp'"
   ]
  },
  {
   "cell_type": "code",
   "execution_count": 56,
   "metadata": {
    "ExecuteTime": {
     "end_time": "2019-05-06T06:13:07.105068Z",
     "start_time": "2019-05-06T06:13:07.101078Z"
    },
    "id": "NwjByfFkYFum"
   },
   "outputs": [
    {
     "name": "stderr",
     "output_type": "stream",
     "text": [
      "/Users/ayano/anaconda3/lib/python3.11/site-packages/sklearn/linear_model/_logistic.py:460: ConvergenceWarning: lbfgs failed to converge (status=1):\n",
      "STOP: TOTAL NO. of ITERATIONS REACHED LIMIT.\n",
      "\n",
      "Increase the number of iterations (max_iter) or scale the data as shown in:\n",
      "    https://scikit-learn.org/stable/modules/preprocessing.html\n",
      "Please also refer to the documentation for alternative solver options:\n",
      "    https://scikit-learn.org/stable/modules/linear_model.html#logistic-regression\n",
      "  n_iter_i = _check_optimize_result(\n"
     ]
    }
   ],
   "source": [
    "# ANSWER\n",
    "# Get the predicted probability vector and explicitly name the columns:)\n",
    "\n",
    "# ロジスティック回帰モデルのインスタンス化\n",
    "model = LogisticRegression()\n",
    "\n",
    "# モデルの訓練\n",
    "model.fit(X_train, y_train)\n",
    "\n",
    "# 1. モデルを使用してテストデータの確率を予測\n",
    "y_pred_prob = model.predict_proba(X_test)\n",
    "\n",
    "# 2. 予測された確率ベクトルを取得\n",
    "class_0_pp = y_pred_prob[:, 0]  # クラス0の確率\n",
    "class_1_pp = y_pred_prob[:, 1]  # クラス1の確率\n",
    "\n",
    "# 3. データフレームに変換し、列の名前を指定\n",
    "predicted_probabilities_df = pd.DataFrame({'class_0_pp': class_0_pp, 'class_1_pp': class_1_pp})\n",
    "\n"
   ]
  },
  {
   "cell_type": "markdown",
   "metadata": {
    "id": "lLXy7TrPYFus"
   },
   "source": [
    "#### 3.11 The Receiver operating characteristic (ROC) curve\n",
    "\n",
    "Plot the ROC curve for Class 1"
   ]
  },
  {
   "cell_type": "code",
   "execution_count": 57,
   "metadata": {
    "ExecuteTime": {
     "end_time": "2019-05-06T03:12:54.882640Z",
     "start_time": "2019-05-06T03:12:54.878653Z"
    },
    "id": "HqZSGS2jYFut"
   },
   "outputs": [],
   "source": [
    "from sklearn.metrics import roc_curve, auc"
   ]
  },
  {
   "cell_type": "code",
   "execution_count": 58,
   "metadata": {
    "ExecuteTime": {
     "end_time": "2019-05-06T06:14:29.000076Z",
     "start_time": "2019-05-06T06:14:28.754938Z"
    },
    "id": "zsTfK0o-YFuy",
    "outputId": "cf602bcc-eb67-40b9-a3b9-4a07ed202a43"
   },
   "outputs": [
    {
     "name": "stderr",
     "output_type": "stream",
     "text": [
      "No artists with labels found to put in legend.  Note that artists whose label start with an underscore are ignored when legend() is called with no argument.\n"
     ]
    },
    {
     "data": {
      "image/png": "[encoded data removed]",
      "text/plain": [
       "<Figure size 800x800 with 1 Axes>"
      ]
     },
     "metadata": {},
     "output_type": "display_data"
    }
   ],
   "source": [
    "# For class 1, find the area under the curve\n",
    "# Find fpr, tpr\n",
    "\n",
    "# Find auc\n",
    "\n",
    "# Plot of a ROC curve for class 1 (has_cancer)\n",
    "plt.figure(figsize=[8,8])\n",
    "\n",
    "# Plot fpr, tpr\n",
    "plt.plot([0, 1], [0, 1], 'k--', linewidth=4)\n",
    "plt.xlim([-0.05, 1.0])\n",
    "plt.ylim([-0.05, 1.05])\n",
    "plt.xlabel('False Positive Rate', fontsize=18)\n",
    "plt.ylabel('True Positive Rate', fontsize=18)\n",
    "plt.title('Receiver operating characteristic for cancer detection', fontsize=18)\n",
    "plt.legend(loc=\"lower right\")\n",
    "plt.show()"
   ]
  },
  {
   "cell_type": "markdown",
   "metadata": {
    "id": "jqsZPA5kYFu4"
   },
   "source": [
    "**References**\n",
    "\n",
    "[Breast Cancer Wisconsin (Diagnostic) Data Set](https://www.kaggle.com/uciml/breast-cancer-wisconsin-data/downloads/breast-cancer-wisconsin-data.zip/2)\n",
    "\n",
    "[Validation curves: plotting scores to evaluate models](https://scikit-learn.org/stable/modules/learning_curve.html#learning-curves)"
   ]
  },
  {
   "cell_type": "markdown",
   "metadata": {
    "id": "RERADKgNFq9T"
   },
   "source": [
    "\n",
    "\n",
    "---\n",
    "\n",
    "\n",
    "\n",
    "---\n",
    "\n",
    "\n",
    "\n",
    "> > > > > > > > > © 2023 Institute of Data\n",
    "\n",
    "\n",
    "---\n",
    "\n",
    "\n",
    "\n",
    "---\n",
    "\n",
    "\n",
    "\n"
   ]
  }
 ],
 "metadata": {
  "colab": {
   "provenance": []
  },
  "kernelspec": {
   "display_name": "Python 3 (ipykernel)",
   "language": "python",
   "name": "python3"
  },
  "language_info": {
   "codemirror_mode": {
    "name": "ipython",
    "version": 3
   },
   "file_extension": ".py",
   "mimetype": "text/x-python",
   "name": "python",
   "nbconvert_exporter": "python",
   "pygments_lexer": "ipython3",
   "version": "3.11.4"
  },
  "varInspector": {
   "cols": {
    "lenName": 16,
    "lenType": 16,
    "lenVar": 40
   },
   "kernels_config": {
    "python": {
     "delete_cmd_postfix": "",
     "delete_cmd_prefix": "del ",
     "library": "var_list.py",
     "varRefreshCmd": "print(var_dic_list())"
    },
    "r": {
     "delete_cmd_postfix": ") ",
     "delete_cmd_prefix": "rm(",
     "library": "var_list.r",
     "varRefreshCmd": "cat(var_dic_list()) "
    }
   },
   "types_to_exclude": [
    "module",
    "function",
    "builtin_function_or_method",
    "instance",
    "_Feature"
   ],
   "window_display": false
  }
 },
 "nbformat": 4,
 "nbformat_minor": 1
}
