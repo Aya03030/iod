{
 "cells": [
  {
   "cell_type": "markdown",
   "metadata": {
    "id": "zYPZ2MKXMk4U"
   },
   "source": [
    "<div>\n",
    "<img src=https://www.institutedata.com/wp-content/uploads/2019/10/iod_h_tp_primary_c.svg width=\"300\">\n",
    "</div>"
   ]
  },
  {
   "cell_type": "markdown",
   "metadata": {
    "id": "8j6-MfKHMk4Y"
   },
   "source": [
    "# Lab 8.2: Web Scraping\n",
    "INSTRUCTIONS:\n",
    "- Read the guides and hints then create the necessary analysis and code to find an answer and conclusion for the task below."
   ]
  },
  {
   "cell_type": "markdown",
   "metadata": {
    "id": "HImUFlzCMk4c"
   },
   "source": [
    "# Web Scraping in Python (using BeautifulSoup)\n",
    "\n",
    "## Scraping Rules\n",
    "1. **Always** check a website’s **Terms and Conditions** before you scrape it. Be careful to read the statements about legal use of data. Usually, the retrieved data should not be used for commercial purposes.\n",
    "2. **Do not** request data from the website too aggressively with a program (also known as spamming), as this may break the website. Make sure the program behaves in a reasonable manner (i.e. acts like a human). One request for one webpage per second is good practice.\n",
    "3. The layout of a website may change from time to time, so make sure to revisit the site and rewrite the code as needed."
   ]
  },
  {
   "cell_type": "markdown",
   "metadata": {
    "id": "l6UcvsYfMk4f"
   },
   "source": [
    "## Find a Page\n",
    "Visit the [Fandom](http://fandom.wikia.com) website, find a wikia of your interest and based on a TV or movie character. As in Demo 8.3,  we focus on the navigation bar and aim to extract all characters from the show from the links in the text."
   ]
  },
  {
   "cell_type": "markdown",
   "metadata": {
    "id": "-NXv6z-6Mk4i"
   },
   "source": [
    "Open a web page with the browser and inspect it.\n",
    "\n",
    "Hover the cursor on the text and follow the shaded box surrounding the main text.\n",
    "\n",
    "From the result, check the main text inside a few levels of HTML tags."
   ]
  },
  {
   "cell_type": "code",
   "execution_count": 1,
   "metadata": {
    "id": "nYkrA5JuMk4m"
   },
   "outputs": [],
   "source": [
    "## Import Libraries\n",
    "import regex as re\n",
    "\n",
    "from urllib.parse import unquote\n",
    "import urllib3\n",
    "from bs4 import BeautifulSoup\n",
    "\n",
    "import warnings\n",
    "warnings.filterwarnings('ignore')"
   ]
  },
  {
   "cell_type": "markdown",
   "metadata": {
    "id": "hb3_djX0Mk4s"
   },
   "source": [
    "### Define the content to retrieve (webpage's URL)"
   ]
  },
  {
   "cell_type": "code",
   "execution_count": 2,
   "metadata": {
    "id": "Da4V87zKGgTN"
   },
   "outputs": [],
   "source": [
    "quote_page = 'https://bigbangtheory.fandom.com/wiki/Barry_Kripke' #can change this to a different character"
   ]
  },
  {
   "cell_type": "markdown",
   "metadata": {
    "id": "pKYTTGA1Mk4t"
   },
   "source": [
    "### Retrieve the page\n",
    "- Require Internet connection"
   ]
  },
  {
   "cell_type": "code",
   "execution_count": 3,
   "metadata": {
    "id": "Ag95d2TrGwAf"
   },
   "outputs": [
    {
     "name": "stdout",
     "output_type": "stream",
     "text": [
      "Type of the variable 'page': bytes\n",
      "Page Retrieved. Request Status: 200, Page Size: 270768\n"
     ]
    }
   ],
   "source": [
    "# query the website and return the html to the variable ‘page’\n",
    "\n",
    "http = urllib3.PoolManager()\n",
    "r = http.request('GET', quote_page)\n",
    "if r.status == 200:\n",
    "    page = r.data\n",
    "    print('Type of the variable \\'page\\':', page.__class__.__name__)\n",
    "    print('Page Retrieved. Request Status: %d, Page Size: %d' % (r.status, len(page)))\n",
    "else:\n",
    "    print('Some problem occurred. Request Status: %s' % r.status)"
   ]
  },
  {
   "cell_type": "markdown",
   "metadata": {
    "id": "w7HYoOoDMk4v"
   },
   "source": [
    "### Convert the stream of bytes into a BeautifulSoup representation"
   ]
  },
  {
   "cell_type": "markdown",
   "metadata": {
    "id": "Zb0yHBblMk4w"
   },
   "source": [
    "### Check the content\n",
    "- The HTML source\n",
    "- Includes all tags and scripts\n",
    "- Can be long!"
   ]
  },
  {
   "cell_type": "code",
   "execution_count": 5,
   "metadata": {},
   "outputs": [
    {
     "name": "stdout",
     "output_type": "stream",
     "text": [
      "Type of the variable 'soup': BeautifulSoup\n"
     ]
    }
   ],
   "source": [
    "# parse the html using beautiful soup and store in variable `soup`\n",
    "soup = BeautifulSoup(page, 'html.parser')\n",
    "print('Type of the variable \\'soup\\':', soup.__class__.__name__)"
   ]
  },
  {
   "cell_type": "code",
   "execution_count": 6,
   "metadata": {
    "id": "dvaAPSBnHUoc"
   },
   "outputs": [
    {
     "name": "stdout",
     "output_type": "stream",
     "text": [
      "<!DOCTYPE html>\n",
      "<html class=\"client-nojs\" dir=\"ltr\" lang=\"en\">\n",
      " <head>\n",
      "  <meta charset=\"utf-8\"/>\n",
      "  <title>\n",
      "   Barry Kripke | The Big Bang Theory Wiki | Fandom\n",
      "  </title>\n",
      "  <script>\n",
      "   document.documentElement.className=\"client-js\";RLCONF={\"wgBreakFrames\":false,\"wgSeparatorTransformTable\":[\"\",\"\"],\"wgDigitTransformTable\":[\"\",\"\"],\"wgDefaultDateFormat\":\"dmy\",\"wgMonthNames\":[\"\",\"January\",\"February\",\"March\",\"April\",\"May\",\"June\",\"July\",\"August\",\"September\",\"October\",\"November\",\"December\"],\"wgRequestId\":\"4af3c204c01289f13ac7a8d11d675813\",\"wgCSPNonce\":false,\"wgCanonicalNamespace\":\"\",\"wgCanonicalSpecialPageName\":false,\"wgNamespaceNumber\":0,\"wgPageName\":\"Barry_Kripke\",\"wgTitle\":\"Barry Kripke\",\"wgCurRevisionId\":409478,\"wgRevisionId\":409478,\"wgArticleId\":2273,\"wgIsArticle\":true,\"wgIsRedirect\":false,\"wgAction\":\"view\",\"wgUserName\":null,\"wgUserGroups\":[\"*\"],\"wgCategories\":[\"Characters\",\"Caltech Faculty\",\"Scientists\",\"Physicists\",\"Particle Physicists\",\"Recurring Characters\",\"Season 2 (The Big Bang Theo\n"
     ]
    }
   ],
   "source": [
    "print(soup.prettify()[:1000])"
   ]
  },
  {
   "cell_type": "markdown",
   "metadata": {
    "id": "Hy2z1218Mk4x"
   },
   "source": [
    "### Check the HTML's Title"
   ]
  },
  {
   "cell_type": "code",
   "execution_count": 7,
   "metadata": {
    "id": "uTtN6Dc0HT8C"
   },
   "outputs": [
    {
     "name": "stdout",
     "output_type": "stream",
     "text": [
      "Title tag :<title>Barry Kripke | The Big Bang Theory Wiki | Fandom</title>:\n",
      "Title text:Barry Kripke | The Big Bang Theory Wiki | Fandom:\n"
     ]
    }
   ],
   "source": [
    "print('Title tag :%s:' % soup.title)\n",
    "print('Title text:%s:' % soup.title.string)"
   ]
  },
  {
   "cell_type": "markdown",
   "metadata": {
    "id": "mAb-2Q24HGNi"
   },
   "source": [
    "###  nav tag\n",
    "- This page uses the tag `nav` for navigation links\n",
    "\n",
    "        <nav class=\"fandom-community-header__local-navigation\">"
   ]
  },
  {
   "cell_type": "code",
   "execution_count": 8,
   "metadata": {
    "id": "oWKV_uiOHQ_j"
   },
   "outputs": [
    {
     "name": "stdout",
     "output_type": "stream",
     "text": [
      "Type of the variable 'article': Tag\n"
     ]
    }
   ],
   "source": [
    "tag = 'nav'\n",
    "nav = soup.find_all(tag)[0]\n",
    "print('Type of the variable \\'article\\':', nav.__class__.__name__)"
   ]
  },
  {
   "cell_type": "markdown",
   "metadata": {
    "id": "NV3IJlHQMk4z"
   },
   "source": [
    "### Find the main content\n",
    "- Check if it is possible to use only the relevant data"
   ]
  },
  {
   "cell_type": "code",
   "execution_count": 9,
   "metadata": {
    "id": "VW5r4Wt-HmZ4"
   },
   "outputs": [
    {
     "name": "stdout",
     "output_type": "stream",
     "text": [
      "Type of the variable 'article': ResultSet\n"
     ]
    }
   ],
   "source": [
    "article_tag = 'p'\n",
    "paragraphs = soup.find_all(article_tag)\n",
    "print('Type of the variable \\'article\\':', paragraphs.__class__.__name__)"
   ]
  },
  {
   "cell_type": "code",
   "execution_count": null,
   "metadata": {
    "id": "N2bXM1aoHqAl"
   },
   "outputs": [],
   "source": [
    "#print the text within paragraphs:\n"
   ]
  },
  {
   "cell_type": "markdown",
   "metadata": {
    "id": "sEioc2exMk40"
   },
   "source": [
    "### Find the content under the 'nav' tag"
   ]
  },
  {
   "cell_type": "code",
   "execution_count": 10,
   "metadata": {
    "id": "w-tDF790H5NF"
   },
   "outputs": [
    {
     "name": "stdout",
     "output_type": "stream",
     "text": [
      "\n",
      " Explore\n",
      " \n",
      " Main Page\n",
      " Discuss\n",
      "All Pages\n",
      "Community\n",
      "Interactive Maps\n",
      "Recent Blog Posts\n",
      "Characters\n",
      "The Big Bang Theory\n",
      " \n",
      "Main Characters\n",
      " \n",
      "Leonard Hofstadter\n",
      "Penny Hofstadter\n",
      "Sheldon Cooper\n",
      "Amy Farrah Fowler\n",
      "Howard Wolowitz\n",
      "Bernadette Rostenkowski-Wolowitz\n",
      "Rajesh Koothrappali\n",
      "Stuart Bloom\n",
      "Leslie Winkle\n",
      "Emily Sweeney\n",
      "Recurring Characters\n",
      " \n",
      "Beverly Hofstadter\n",
      "Mary Cooper\n",
      "Debbie Wolowitz\n",
      "Mike Rostenkowski\n",
      "V. M. Koothrappali\n",
      "Priya Koothrappali\n",
      "Denise\n",
      "Barry Kripke\n",
      "Wil Wheaton\n",
      "Zack Johnson\n",
      "Seasons (1-6\n"
     ]
    }
   ],
   "source": [
    "# show the first 500 characters after removing redundant newlines\n",
    "print(re.sub(r'\\n\\n+', '\\n', nav.text)[:500])"
   ]
  },
  {
   "cell_type": "markdown",
   "metadata": {
    "id": "Gdf3no5jMk41"
   },
   "source": [
    "### Find the links in the text"
   ]
  },
  {
   "cell_type": "code",
   "execution_count": 11,
   "metadata": {
    "id": "8Plp1ay0H_is"
   },
   "outputs": [
    {
     "data": {
      "text/plain": [
       "['#',\n",
       " 'https://bigbangtheory.fandom.com/wiki/Main_Page',\n",
       " '/f',\n",
       " 'https://bigbangtheory.fandom.com/wiki/Special:AllPages',\n",
       " 'https://bigbangtheory.fandom.com/wiki/Special:Community',\n",
       " 'https://bigbangtheory.fandom.com/wiki/Special:AllMaps',\n",
       " '/Blog:Recent_posts',\n",
       " 'https://bigbangtheory.fandom.com/wiki/Category:Characters',\n",
       " 'https://bigbangtheory.fandom.com/wiki/The_Big_Bang_Theory',\n",
       " 'https://bigbangtheory.fandom.com/wiki/Category:Main_Characters',\n",
       " 'https://bigbangtheory.fandom.com/wiki/Leonard_Hofstadter',\n",
       " 'https://bigbangtheory.fandom.com/wiki/Penny_Hofstadter',\n",
       " 'https://bigbangtheory.fandom.com/wiki/Sheldon_Cooper',\n",
       " 'https://bigbangtheory.fandom.com/wiki/Amy_Farrah_Fowler',\n",
       " 'https://bigbangtheory.fandom.com/wiki/Howard_Wolowitz',\n",
       " 'https://bigbangtheory.fandom.com/wiki/Bernadette_Rostenkowski-Wolowitz',\n",
       " 'https://bigbangtheory.fandom.com/wiki/Rajesh_Koothrappali',\n",
       " 'https://bigbangtheory.fandom.com/wiki/Stuart_Bloom',\n",
       " 'https://bigbangtheory.fandom.com/wiki/Leslie_Winkle',\n",
       " 'https://bigbangtheory.fandom.com/wiki/Emily_Sweeney',\n",
       " 'https://bigbangtheory.fandom.com/wiki/Category:Recurring_Characters',\n",
       " 'https://bigbangtheory.fandom.com/wiki/Beverly_Hofstadter',\n",
       " 'https://bigbangtheory.fandom.com/wiki/Mary_Cooper',\n",
       " 'https://bigbangtheory.fandom.com/wiki/Debbie_Wolowitz',\n",
       " 'https://bigbangtheory.fandom.com/wiki/Mike_Rostenkowski',\n",
       " 'https://bigbangtheory.fandom.com/wiki/V._M._Koothrappali',\n",
       " 'https://bigbangtheory.fandom.com/wiki/Priya_Koothrappali',\n",
       " 'https://bigbangtheory.fandom.com/wiki/Denise',\n",
       " 'https://bigbangtheory.fandom.com/wiki/Barry_Kripke',\n",
       " 'https://bigbangtheory.fandom.com/wiki/Wil_Wheaton',\n",
       " 'https://bigbangtheory.fandom.com/wiki/Zack_Johnson',\n",
       " 'https://bigbangtheory.fandom.com/wiki/Seasons_(1-6)',\n",
       " 'https://bigbangtheory.fandom.com/wiki/Season_1',\n",
       " 'https://bigbangtheory.fandom.com/wiki/Season_2',\n",
       " 'https://bigbangtheory.fandom.com/wiki/Season_3',\n",
       " 'https://bigbangtheory.fandom.com/wiki/Season_4',\n",
       " 'https://bigbangtheory.fandom.com/wiki/Season_5',\n",
       " 'https://bigbangtheory.fandom.com/wiki/Season_6',\n",
       " 'https://bigbangtheory.fandom.com/wiki/Seasons_(7-12)',\n",
       " 'https://bigbangtheory.fandom.com/wiki/Season_7',\n",
       " 'https://bigbangtheory.fandom.com/wiki/Season_8',\n",
       " 'https://bigbangtheory.fandom.com/wiki/Season_9',\n",
       " 'https://bigbangtheory.fandom.com/wiki/Season_10',\n",
       " 'https://bigbangtheory.fandom.com/wiki/Season_11',\n",
       " 'https://bigbangtheory.fandom.com/wiki/Season_12',\n",
       " 'https://bigbangtheory.fandom.com/wiki/Young_Sheldon',\n",
       " 'https://bigbangtheory.fandom.com/wiki/Category:Main_Characters',\n",
       " 'https://bigbangtheory.fandom.com/wiki/Sheldon_Cooper',\n",
       " 'https://bigbangtheory.fandom.com/wiki/Mary_Cooper',\n",
       " 'https://bigbangtheory.fandom.com/wiki/George_Cooper_Sr.',\n",
       " 'https://bigbangtheory.fandom.com/wiki/George_Cooper_Jr.',\n",
       " 'https://bigbangtheory.fandom.com/wiki/Missy_Cooper',\n",
       " 'https://bigbangtheory.fandom.com/wiki/Meemaw',\n",
       " 'https://bigbangtheory.fandom.com/wiki/Jeff_Difford',\n",
       " 'https://bigbangtheory.fandom.com/wiki/Category:Recurring_Characters',\n",
       " 'https://bigbangtheory.fandom.com/wiki/Tam_Nguyen',\n",
       " 'https://bigbangtheory.fandom.com/wiki/Veronica_Duncan',\n",
       " 'https://bigbangtheory.fandom.com/wiki/Billy_Sparks',\n",
       " 'https://bigbangtheory.fandom.com/wiki/Brenda_Sparks',\n",
       " 'https://bigbangtheory.fandom.com/wiki/John_Sturgis',\n",
       " 'https://bigbangtheory.fandom.com/wiki/Dale_Ballard',\n",
       " 'https://bigbangtheory.fandom.com/wiki/Paige_Swanson',\n",
       " 'https://bigbangtheory.fandom.com/wiki/Seasons',\n",
       " 'https://bigbangtheory.fandom.com/wiki/Season_1_(Young_Sheldon)',\n",
       " 'https://bigbangtheory.fandom.com/wiki/Season_2_(Young_Sheldon)',\n",
       " 'https://bigbangtheory.fandom.com/wiki/Season_3_(Young_Sheldon)',\n",
       " 'https://bigbangtheory.fandom.com/wiki/Season_4_(Young_Sheldon)',\n",
       " 'https://bigbangtheory.fandom.com/wiki/Season_5_(Young_Sheldon)']"
      ]
     },
     "execution_count": 11,
     "metadata": {},
     "output_type": "execute_result"
    }
   ],
   "source": [
    "# identify the type of tag to retrieve\n",
    "tag = 'a'\n",
    "# create a list with the links from the `<a>` tag\n",
    "tag_list = [t.get('href') for t in nav.find_all(tag)]\n",
    "tag_list"
   ]
  },
  {
   "cell_type": "code",
   "execution_count": 12,
   "metadata": {},
   "outputs": [
    {
     "data": {
      "text/plain": [
       "['/Main_Page',\n",
       " '/Special:AllPages',\n",
       " '/Special:Community',\n",
       " '/Special:AllMaps',\n",
       " '/Category:Characters',\n",
       " '/The_Big_Bang_Theory',\n",
       " '/Category:Main_Characters',\n",
       " '/Leonard_Hofstadter',\n",
       " '/Penny_Hofstadter',\n",
       " '/Sheldon_Cooper',\n",
       " '/Amy_Farrah_Fowler',\n",
       " '/Howard_Wolowitz',\n",
       " '/Bernadette_Rostenkowski-Wolowitz',\n",
       " '/Rajesh_Koothrappali',\n",
       " '/Stuart_Bloom',\n",
       " '/Leslie_Winkle',\n",
       " '/Emily_Sweeney',\n",
       " '/Category:Recurring_Characters',\n",
       " '/Beverly_Hofstadter',\n",
       " '/Mary_Cooper',\n",
       " '/Debbie_Wolowitz',\n",
       " '/Mike_Rostenkowski',\n",
       " '/V._M._Koothrappali',\n",
       " '/Priya_Koothrappali',\n",
       " '/Denise',\n",
       " '/Barry_Kripke',\n",
       " '/Wil_Wheaton',\n",
       " '/Zack_Johnson',\n",
       " '/Seasons_(1-6)',\n",
       " '/Season_1',\n",
       " '/Season_2',\n",
       " '/Season_3',\n",
       " '/Season_4',\n",
       " '/Season_5',\n",
       " '/Season_6',\n",
       " '/Seasons_(7-12)',\n",
       " '/Season_7',\n",
       " '/Season_8',\n",
       " '/Season_9',\n",
       " '/Season_10',\n",
       " '/Season_11',\n",
       " '/Season_12',\n",
       " '/Young_Sheldon',\n",
       " '/Category:Main_Characters',\n",
       " '/Sheldon_Cooper',\n",
       " '/Mary_Cooper',\n",
       " '/George_Cooper_Sr.',\n",
       " '/George_Cooper_Jr.',\n",
       " '/Missy_Cooper',\n",
       " '/Meemaw',\n",
       " '/Jeff_Difford',\n",
       " '/Category:Recurring_Characters',\n",
       " '/Tam_Nguyen',\n",
       " '/Veronica_Duncan',\n",
       " '/Billy_Sparks',\n",
       " '/Brenda_Sparks',\n",
       " '/John_Sturgis',\n",
       " '/Dale_Ballard',\n",
       " '/Paige_Swanson',\n",
       " '/Seasons',\n",
       " '/Season_1_(Young_Sheldon)',\n",
       " '/Season_2_(Young_Sheldon)',\n",
       " '/Season_3_(Young_Sheldon)',\n",
       " '/Season_4_(Young_Sheldon)',\n",
       " '/Season_5_(Young_Sheldon)']"
      ]
     },
     "execution_count": 12,
     "metadata": {},
     "output_type": "execute_result"
    }
   ],
   "source": [
    "# keep only the links to the wiki itself\n",
    "tag_list = [t[37:] for t in tag_list if (t) and ('/wiki/' in t)]\n",
    "tag_list"
   ]
  },
  {
   "cell_type": "markdown",
   "metadata": {
    "id": "05kAkHXYIi52"
   },
   "source": [
    "### Create a filter for undesired links (those not corresponding to characters)"
   ]
  },
  {
   "cell_type": "code",
   "execution_count": 13,
   "metadata": {
    "id": "hO5dSet3K0Ai"
   },
   "outputs": [
    {
     "data": {
      "text/plain": [
       "['/Main_Page',\n",
       " '/The_Big_Bang_Theory',\n",
       " '/Leonard_Hofstadter',\n",
       " '/Penny_Hofstadter',\n",
       " '/Sheldon_Cooper',\n",
       " '/Amy_Farrah_Fowler',\n",
       " '/Howard_Wolowitz',\n",
       " '/Bernadette_Rostenkowski-Wolowitz',\n",
       " '/Rajesh_Koothrappali',\n",
       " '/Stuart_Bloom',\n",
       " '/Leslie_Winkle',\n",
       " '/Emily_Sweeney',\n",
       " '/Beverly_Hofstadter',\n",
       " '/Mary_Cooper',\n",
       " '/Debbie_Wolowitz',\n",
       " '/Mike_Rostenkowski',\n",
       " '/V._M._Koothrappali',\n",
       " '/Priya_Koothrappali',\n",
       " '/Denise',\n",
       " '/Barry_Kripke',\n",
       " '/Wil_Wheaton',\n",
       " '/Zack_Johnson',\n",
       " '/Seasons_(1-6)',\n",
       " '/Season_1',\n",
       " '/Season_2',\n",
       " '/Season_3',\n",
       " '/Season_4',\n",
       " '/Season_5',\n",
       " '/Season_6',\n",
       " '/Seasons_(7-12)',\n",
       " '/Season_7',\n",
       " '/Season_8',\n",
       " '/Season_9',\n",
       " '/Season_10',\n",
       " '/Season_11',\n",
       " '/Season_12',\n",
       " '/Young_Sheldon',\n",
       " '/Sheldon_Cooper',\n",
       " '/Mary_Cooper',\n",
       " '/George_Cooper_Sr.',\n",
       " '/George_Cooper_Jr.',\n",
       " '/Missy_Cooper',\n",
       " '/Meemaw',\n",
       " '/Jeff_Difford',\n",
       " '/Tam_Nguyen',\n",
       " '/Veronica_Duncan',\n",
       " '/Billy_Sparks',\n",
       " '/Brenda_Sparks',\n",
       " '/John_Sturgis',\n",
       " '/Dale_Ballard',\n",
       " '/Paige_Swanson',\n",
       " '/Seasons',\n",
       " '/Season_1_(Young_Sheldon)',\n",
       " '/Season_2_(Young_Sheldon)',\n",
       " '/Season_3_(Young_Sheldon)',\n",
       " '/Season_4_(Young_Sheldon)',\n",
       " '/Season_5_(Young_Sheldon)']"
      ]
     },
     "execution_count": 13,
     "metadata": {},
     "output_type": "execute_result"
    }
   ],
   "source": [
    "filter  = '(%s)' % '|'.join([\n",
    "    'Category:',\n",
    "    'File:',\n",
    "    'Help:',\n",
    "    'Memory_Alpha:',\n",
    "    'Portal:',\n",
    "    'action=',\n",
    "    'Special:',\n",
    "    'Star_Trek:',\n",
    "    'Star_Trek_',\n",
    "    'Talk:'\n",
    "])\n",
    "# remove the links that are found in the filter\n",
    "tag_list = [t for t in tag_list if not re.search(filter, t)]\n",
    "tag_list"
   ]
  },
  {
   "cell_type": "markdown",
   "metadata": {
    "id": "arGk5JeLIxK3"
   },
   "source": [
    "### Remove duplicates"
   ]
  },
  {
   "cell_type": "code",
   "execution_count": 14,
   "metadata": {
    "id": "4N0NWnoPK0Ak"
   },
   "outputs": [
    {
     "data": {
      "text/plain": [
       "['/Beverly_Hofstadter',\n",
       " '/Bernadette_Rostenkowski-Wolowitz',\n",
       " '/V._M._Koothrappali',\n",
       " '/Season_2',\n",
       " '/Season_8',\n",
       " '/Season_5',\n",
       " '/Season_1',\n",
       " '/Seasons',\n",
       " '/John_Sturgis',\n",
       " '/Missy_Cooper',\n",
       " '/The_Big_Bang_Theory',\n",
       " '/Barry_Kripke',\n",
       " '/Season_11',\n",
       " '/Stuart_Bloom',\n",
       " '/Tam_Nguyen',\n",
       " '/Seasons_(7-12)',\n",
       " '/Paige_Swanson',\n",
       " '/Leslie_Winkle',\n",
       " '/Season_4',\n",
       " '/Season_3_(Young_Sheldon)',\n",
       " '/Priya_Koothrappali',\n",
       " '/Mary_Cooper',\n",
       " '/Season_9',\n",
       " '/Season_10',\n",
       " '/Amy_Farrah_Fowler',\n",
       " '/George_Cooper_Jr.',\n",
       " '/Season_7',\n",
       " '/Debbie_Wolowitz',\n",
       " '/Sheldon_Cooper',\n",
       " '/Season_3',\n",
       " '/Mike_Rostenkowski',\n",
       " '/Season_2_(Young_Sheldon)',\n",
       " '/Season_4_(Young_Sheldon)',\n",
       " '/Season_12',\n",
       " '/Main_Page',\n",
       " '/Denise',\n",
       " '/Wil_Wheaton',\n",
       " '/Leonard_Hofstadter',\n",
       " '/Season_5_(Young_Sheldon)',\n",
       " '/Zack_Johnson',\n",
       " '/Penny_Hofstadter',\n",
       " '/Young_Sheldon',\n",
       " '/Dale_Ballard',\n",
       " '/Season_6',\n",
       " '/Billy_Sparks',\n",
       " '/Rajesh_Koothrappali',\n",
       " '/Emily_Sweeney',\n",
       " '/Meemaw',\n",
       " '/Veronica_Duncan',\n",
       " '/Seasons_(1-6)',\n",
       " '/Brenda_Sparks',\n",
       " '/Howard_Wolowitz',\n",
       " '/Season_1_(Young_Sheldon)',\n",
       " '/Jeff_Difford',\n",
       " '/George_Cooper_Sr.']"
      ]
     },
     "execution_count": 14,
     "metadata": {},
     "output_type": "execute_result"
    }
   ],
   "source": [
    "tag_list = list(set(tag_list))\n",
    "tag_list"
   ]
  },
  {
   "cell_type": "markdown",
   "metadata": {
    "id": "Mv4jxDUYJAu4"
   },
   "source": [
    "### Convert underscore to space"
   ]
  },
  {
   "cell_type": "code",
   "execution_count": 15,
   "metadata": {
    "id": "ODJEoku8K0An"
   },
   "outputs": [
    {
     "data": {
      "text/plain": [
       "['/Beverly Hofstadter',\n",
       " '/Bernadette Rostenkowski-Wolowitz',\n",
       " '/V. M. Koothrappali',\n",
       " '/Season 2',\n",
       " '/Season 8',\n",
       " '/Season 5',\n",
       " '/Season 1',\n",
       " '/Seasons',\n",
       " '/John Sturgis',\n",
       " '/Missy Cooper',\n",
       " '/The Big Bang Theory',\n",
       " '/Barry Kripke',\n",
       " '/Season 11',\n",
       " '/Stuart Bloom',\n",
       " '/Tam Nguyen',\n",
       " '/Seasons (7-12)',\n",
       " '/Paige Swanson',\n",
       " '/Leslie Winkle',\n",
       " '/Season 4',\n",
       " '/Season 3 (Young Sheldon)',\n",
       " '/Priya Koothrappali',\n",
       " '/Mary Cooper',\n",
       " '/Season 9',\n",
       " '/Season 10',\n",
       " '/Amy Farrah Fowler',\n",
       " '/George Cooper Jr.',\n",
       " '/Season 7',\n",
       " '/Debbie Wolowitz',\n",
       " '/Sheldon Cooper',\n",
       " '/Season 3',\n",
       " '/Mike Rostenkowski',\n",
       " '/Season 2 (Young Sheldon)',\n",
       " '/Season 4 (Young Sheldon)',\n",
       " '/Season 12',\n",
       " '/Main Page',\n",
       " '/Denise',\n",
       " '/Wil Wheaton',\n",
       " '/Leonard Hofstadter',\n",
       " '/Season 5 (Young Sheldon)',\n",
       " '/Zack Johnson',\n",
       " '/Penny Hofstadter',\n",
       " '/Young Sheldon',\n",
       " '/Dale Ballard',\n",
       " '/Season 6',\n",
       " '/Billy Sparks',\n",
       " '/Rajesh Koothrappali',\n",
       " '/Emily Sweeney',\n",
       " '/Meemaw',\n",
       " '/Veronica Duncan',\n",
       " '/Seasons (1-6)',\n",
       " '/Brenda Sparks',\n",
       " '/Howard Wolowitz',\n",
       " '/Season 1 (Young Sheldon)',\n",
       " '/Jeff Difford',\n",
       " '/George Cooper Sr.']"
      ]
     },
     "execution_count": 15,
     "metadata": {},
     "output_type": "execute_result"
    }
   ],
   "source": [
    "tag_list = [re.sub('_', ' ', t) for t in tag_list]\n",
    "tag_list"
   ]
  },
  {
   "cell_type": "markdown",
   "metadata": {
    "id": "G2E1ZIlGJECy"
   },
   "source": [
    "###Order the list"
   ]
  },
  {
   "cell_type": "code",
   "execution_count": 16,
   "metadata": {
    "id": "hc77nPaDK0Ao",
    "scrolled": false
   },
   "outputs": [
    {
     "data": {
      "text/plain": [
       "['/Amy Farrah Fowler',\n",
       " '/Barry Kripke',\n",
       " '/Bernadette Rostenkowski-Wolowitz',\n",
       " '/Beverly Hofstadter',\n",
       " '/Billy Sparks',\n",
       " '/Brenda Sparks',\n",
       " '/Dale Ballard',\n",
       " '/Debbie Wolowitz',\n",
       " '/Denise',\n",
       " '/Emily Sweeney',\n",
       " '/George Cooper Jr.',\n",
       " '/George Cooper Sr.',\n",
       " '/Howard Wolowitz',\n",
       " '/Jeff Difford',\n",
       " '/John Sturgis',\n",
       " '/Leonard Hofstadter',\n",
       " '/Leslie Winkle',\n",
       " '/Main Page',\n",
       " '/Mary Cooper',\n",
       " '/Meemaw',\n",
       " '/Mike Rostenkowski',\n",
       " '/Missy Cooper',\n",
       " '/Paige Swanson',\n",
       " '/Penny Hofstadter',\n",
       " '/Priya Koothrappali',\n",
       " '/Rajesh Koothrappali',\n",
       " '/Season 1',\n",
       " '/Season 1 (Young Sheldon)',\n",
       " '/Season 10',\n",
       " '/Season 11',\n",
       " '/Season 12',\n",
       " '/Season 2',\n",
       " '/Season 2 (Young Sheldon)',\n",
       " '/Season 3',\n",
       " '/Season 3 (Young Sheldon)',\n",
       " '/Season 4',\n",
       " '/Season 4 (Young Sheldon)',\n",
       " '/Season 5',\n",
       " '/Season 5 (Young Sheldon)',\n",
       " '/Season 6',\n",
       " '/Season 7',\n",
       " '/Season 8',\n",
       " '/Season 9',\n",
       " '/Seasons',\n",
       " '/Seasons (1-6)',\n",
       " '/Seasons (7-12)',\n",
       " '/Sheldon Cooper',\n",
       " '/Stuart Bloom',\n",
       " '/Tam Nguyen',\n",
       " '/The Big Bang Theory',\n",
       " '/V. M. Koothrappali',\n",
       " '/Veronica Duncan',\n",
       " '/Wil Wheaton',\n",
       " '/Young Sheldon',\n",
       " '/Zack Johnson']"
      ]
     },
     "execution_count": 16,
     "metadata": {},
     "output_type": "execute_result"
    }
   ],
   "source": [
    "tag_list.sort()\n",
    "tag_list"
   ]
  },
  {
   "cell_type": "markdown",
   "metadata": {
    "id": "RERADKgNFq9T"
   },
   "source": [
    "\n",
    "\n",
    "---\n",
    "\n",
    "\n",
    "\n",
    "---\n",
    "\n",
    "\n",
    "\n",
    "> > > > > > > > > © 2023 Institute of Data\n",
    "\n",
    "\n",
    "---\n",
    "\n",
    "\n",
    "\n",
    "---\n",
    "\n",
    "\n",
    "\n"
   ]
  }
 ],
 "metadata": {
  "colab": {
   "provenance": []
  },
  "kernelspec": {
   "display_name": "Python 3 (ipykernel)",
   "language": "python",
   "name": "python3"
  },
  "language_info": {
   "codemirror_mode": {
    "name": "ipython",
    "version": 3
   },
   "file_extension": ".py",
   "mimetype": "text/x-python",
   "name": "python",
   "nbconvert_exporter": "python",
   "pygments_lexer": "ipython3",
   "version": "3.11.4"
  }
 },
 "nbformat": 4,
 "nbformat_minor": 1
}
